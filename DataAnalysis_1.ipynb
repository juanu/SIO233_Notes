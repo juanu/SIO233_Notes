{
 "metadata": {
  "name": "DataAnalysis_1"
 },
 "nbformat": 3,
 "nbformat_minor": 0,
 "worksheets": [
  {
   "cells": [
    {
     "cell_type": "heading",
     "level": 3,
     "metadata": {},
     "source": [
      "Generating random numbers"
     ]
    },
    {
     "cell_type": "markdown",
     "metadata": {},
     "source": [
      "First we import from the numpy library, the module random:"
     ]
    },
    {
     "cell_type": "code",
     "collapsed": false,
     "input": [
      "import numpy.random as npr \n",
      "import matplotlib.pyplot as plt\n",
      "npr.random(5)"
     ],
     "language": "python",
     "metadata": {},
     "outputs": [
      {
       "output_type": "pyout",
       "prompt_number": 1,
       "text": [
        "array([ 0.6476524 ,  0.18276035,  0.50637027,  0.85938674,  0.88300198])"
       ]
      }
     ],
     "prompt_number": 1
    },
    {
     "cell_type": "markdown",
     "metadata": {},
     "source": [
      "You can see, that the output are floats between 0 and 1. \n",
      "\n",
      "We can also generate a 3 by 4 array of random numbers"
     ]
    },
    {
     "cell_type": "code",
     "collapsed": false,
     "input": [
      "npr.random((3,4))"
     ],
     "language": "python",
     "metadata": {},
     "outputs": [
      {
       "output_type": "pyout",
       "prompt_number": 2,
       "text": [
        "array([[ 0.30190345,  0.73393646,  0.45354173,  0.38312735],\n",
        "       [ 0.29714976,  0.36851078,  0.182601  ,  0.74744771],\n",
        "       [ 0.48758248,  0.53021076,  0.26982079,  0.71897309]])"
       ]
      }
     ],
     "prompt_number": 2
    },
    {
     "cell_type": "markdown",
     "metadata": {},
     "source": [
      "What if I want to generate random numbers between 0 and 5:"
     ]
    },
    {
     "cell_type": "code",
     "collapsed": false,
     "input": [
      "5*npr.random((3,4))"
     ],
     "language": "python",
     "metadata": {},
     "outputs": [
      {
       "output_type": "pyout",
       "prompt_number": 3,
       "text": [
        "array([[ 2.07026918,  3.40858877,  4.46836469,  1.80301827],\n",
        "       [ 2.84906324,  1.43992879,  0.22051474,  4.06190696],\n",
        "       [ 3.12234037,  1.63005862,  1.24949087,  2.69818227]])"
       ]
      }
     ],
     "prompt_number": 3
    },
    {
     "cell_type": "markdown",
     "metadata": {},
     "source": [
      "Numpy.random has other functions to generate random numbers. For example, we can draw random samples from a normal distribution. When using this function, the first numbers is the mean (center of the distribution), the second number is the standard deviation and the final one is the number of samples. For example, here is a distribution with mean 5, standard deviation 1, and generates 40 samples"
     ]
    },
    {
     "cell_type": "code",
     "collapsed": false,
     "input": [
      "npr.normal(5,1,40)"
     ],
     "language": "python",
     "metadata": {},
     "outputs": [
      {
       "output_type": "pyout",
       "prompt_number": 4,
       "text": [
        "array([ 4.99492944,  3.82972704,  4.39499271,  5.89480187,  4.54840476,\n",
        "        5.70479589,  3.7004461 ,  4.51738726,  5.71476784,  4.82911246,\n",
        "        5.10817953,  4.73832275,  4.32165631,  5.60246253,  4.95362142,\n",
        "        4.94452268,  4.53409133,  4.26031431,  4.65481752,  6.33039508,\n",
        "        5.15691216,  5.96136249,  4.82482722,  4.7930725 ,  4.83009469,\n",
        "        6.84492464,  5.35901306,  5.20519981,  4.3294596 ,  6.12322937,\n",
        "        4.33893632,  5.98655209,  5.83817786,  3.06834983,  4.94378211,\n",
        "        5.6363653 ,  5.8970117 ,  2.80235455,  5.48877089,  5.21414222])"
       ]
      }
     ],
     "prompt_number": 4
    },
    {
     "cell_type": "markdown",
     "metadata": {},
     "source": [
      "Let's generate a larger dataset, in this case with a mean of 5, stdev 2 and generate 100000 samples. Then plot an histogram of the distribution:"
     ]
    },
    {
     "cell_type": "code",
     "collapsed": false,
     "input": [
      "large_normal = npr.normal(5, 2, 1000000)"
     ],
     "language": "python",
     "metadata": {},
     "outputs": [],
     "prompt_number": 5
    },
    {
     "cell_type": "code",
     "collapsed": false,
     "input": [
      "plt.hist(large_normal, bins=1, histtype='step')\n",
      "plt.show()"
     ],
     "language": "python",
     "metadata": {},
     "outputs": [
      {
       "output_type": "display_data",
       "png": "[encoded data removed]"
      }
     ],
     "prompt_number": 6
    },
    {
     "cell_type": "code",
     "collapsed": false,
     "input": [
      "plt.hist(large_normal, bins=1000, histtype='step')\n",
      "plt.show()"
     ],
     "language": "python",
     "metadata": {},
     "outputs": [
      {
       "output_type": "display_data",
       "png": "[encoded data removed]"
      }
     ],
     "prompt_number": 7
    },
    {
     "cell_type": "markdown",
     "metadata": {},
     "source": [
      "Sometimes you want to generate a list of random numbers. You can do this using __randint__, where the first number is the low limit (inclusive), the second number the high limit (exclusive) and then the size of the list."
     ]
    },
    {
     "cell_type": "code",
     "collapsed": false,
     "input": [
      "npr.randint(1,7,10)"
     ],
     "language": "python",
     "metadata": {},
     "outputs": [
      {
       "output_type": "pyout",
       "prompt_number": 8,
       "text": [
        "array([2, 3, 4, 3, 6, 4, 4, 1, 5, 4])"
       ]
      }
     ],
     "prompt_number": 8
    },
    {
     "cell_type": "markdown",
     "metadata": {},
     "source": [
      "In a simlar way to __normal__, __uniform__ draw samples from a uniform distribution"
     ]
    },
    {
     "cell_type": "code",
     "collapsed": false,
     "input": [
      "npr.uniform(1,7,10)"
     ],
     "language": "python",
     "metadata": {},
     "outputs": [
      {
       "output_type": "pyout",
       "prompt_number": 9,
       "text": [
        "array([ 4.02029535,  1.63851826,  3.61631804,  6.52343818,  4.83018675,\n",
        "        5.79075199,  4.34279376,  2.76062259,  5.28397049,  6.92936522])"
       ]
      }
     ],
     "prompt_number": 9
    },
    {
     "cell_type": "code",
     "collapsed": false,
     "input": [
      "large_uniform = npr.uniform(1,10,1000000)"
     ],
     "language": "python",
     "metadata": {},
     "outputs": [],
     "prompt_number": 10
    },
    {
     "cell_type": "code",
     "collapsed": false,
     "input": [
      "plt.hist(large_uniform, bins=10, histtype='step')\n",
      "plt.show()"
     ],
     "language": "python",
     "metadata": {},
     "outputs": [
      {
       "output_type": "display_data",
       "png": "[encoded data removed]"
      }
     ],
     "prompt_number": 11
    },
    {
     "cell_type": "code",
     "collapsed": false,
     "input": [
      "plt.hist(large_uniform, bins=1000, histtype='step')\n",
      "plt.show()"
     ],
     "language": "python",
     "metadata": {},
     "outputs": [
      {
       "output_type": "display_data",
       "png": "[encoded data removed]"
      }
     ],
     "prompt_number": 12
    },
    {
     "cell_type": "markdown",
     "metadata": {},
     "source": [
      "The random module also has functions for permutations. __shuffle__  modify a sequence in-place by shuffling its contents"
     ]
    },
    {
     "cell_type": "code",
     "collapsed": false,
     "input": [
      "x = [1,2,3,4,5,6]\n",
      "npr.shuffle(x)"
     ],
     "language": "python",
     "metadata": {},
     "outputs": [],
     "prompt_number": 13
    },
    {
     "cell_type": "code",
     "collapsed": false,
     "input": [
      "x"
     ],
     "language": "python",
     "metadata": {},
     "outputs": [
      {
       "output_type": "pyout",
       "prompt_number": 14,
       "text": [
        "[4, 5, 6, 2, 3, 1]"
       ]
      }
     ],
     "prompt_number": 14
    },
    {
     "cell_type": "markdown",
     "metadata": {},
     "source": [
      "And __permutation__ randomly permute a sequence or returns a permuted range"
     ]
    },
    {
     "cell_type": "code",
     "collapsed": false,
     "input": [
      "y = npr.permutation(x)"
     ],
     "language": "python",
     "metadata": {},
     "outputs": [],
     "prompt_number": 15
    },
    {
     "cell_type": "code",
     "collapsed": false,
     "input": [
      "y"
     ],
     "language": "python",
     "metadata": {},
     "outputs": [
      {
       "output_type": "pyout",
       "prompt_number": 16,
       "text": [
        "array([6, 1, 2, 3, 4, 5])"
       ]
      }
     ],
     "prompt_number": 16
    },
    {
     "cell_type": "code",
     "collapsed": false,
     "input": [
      "npr.permutation(10)"
     ],
     "language": "python",
     "metadata": {},
     "outputs": [
      {
       "output_type": "pyout",
       "prompt_number": 17,
       "text": [
        "array([8, 7, 4, 2, 9, 5, 1, 0, 3, 6])"
       ]
      }
     ],
     "prompt_number": 17
    },
    {
     "cell_type": "markdown",
     "metadata": {},
     "source": [
      "Using this functions, we can create new samples with replacement from an existing sample, in a very efficient way:"
     ]
    },
    {
     "cell_type": "code",
     "collapsed": false,
     "input": [
      "import numpy as np\n",
      "import numpy.random as npr\n",
      "\n",
      "data = np.array([\"blue\",\"red\",\"green\",\"yellow\",\"purple\"])"
     ],
     "language": "python",
     "metadata": {},
     "outputs": [],
     "prompt_number": 18
    },
    {
     "cell_type": "markdown",
     "metadata": {},
     "source": [
      "We can use the function __randint__ that returns randome integers:"
     ]
    },
    {
     "cell_type": "code",
     "collapsed": false,
     "input": [
      "idx = npr.randint(0, len(data), (4,len(data)))"
     ],
     "language": "python",
     "metadata": {},
     "outputs": [],
     "prompt_number": 19
    },
    {
     "cell_type": "code",
     "collapsed": false,
     "input": [
      "data"
     ],
     "language": "python",
     "metadata": {},
     "outputs": [
      {
       "output_type": "pyout",
       "prompt_number": 20,
       "text": [
        "array(['blue', 'red', 'green', 'yellow', 'purple'], \n",
        "      dtype='|S6')"
       ]
      }
     ],
     "prompt_number": 20
    },
    {
     "cell_type": "code",
     "collapsed": false,
     "input": [
      "idx "
     ],
     "language": "python",
     "metadata": {},
     "outputs": [
      {
       "output_type": "pyout",
       "prompt_number": 21,
       "text": [
        "array([[3, 3, 0, 3, 2],\n",
        "       [0, 2, 0, 4, 0],\n",
        "       [1, 0, 4, 0, 3],\n",
        "       [4, 3, 1, 3, 4]])"
       ]
      }
     ],
     "prompt_number": 21
    },
    {
     "cell_type": "code",
     "collapsed": false,
     "input": [
      "samples_with_replacement = data[idx]"
     ],
     "language": "python",
     "metadata": {},
     "outputs": [],
     "prompt_number": 22
    },
    {
     "cell_type": "code",
     "collapsed": false,
     "input": [
      "samples_with_replacement"
     ],
     "language": "python",
     "metadata": {},
     "outputs": [
      {
       "output_type": "pyout",
       "prompt_number": 23,
       "text": [
        "array([['yellow', 'yellow', 'blue', 'yellow', 'green'],\n",
        "       ['blue', 'green', 'blue', 'purple', 'blue'],\n",
        "       ['red', 'blue', 'purple', 'blue', 'yellow'],\n",
        "       ['purple', 'yellow', 'red', 'yellow', 'purple']], \n",
        "      dtype='|S6')"
       ]
      }
     ],
     "prompt_number": 23
    },
    {
     "cell_type": "heading",
     "level": 3,
     "metadata": {},
     "source": [
      "Bootstrap"
     ]
    },
    {
     "cell_type": "markdown",
     "metadata": {},
     "source": [
      "The idea behind bootstrap is to use the data of a sample study at hand as a \u201csurrogate population\u201d, for the purpose of approximating the sampling distribution of a statistic; i.e. to resample (with replacement) from the sample data at hand and create a large number of \u201cphantom samples\u201d known as bootstrap samples. "
     ]
    },
    {
     "cell_type": "code",
     "collapsed": false,
     "input": [
      "import numpy as np\n",
      "import numpy.random as npr\n",
      "import matplotlib.pyplot as plt"
     ],
     "language": "python",
     "metadata": {},
     "outputs": [],
     "prompt_number": 24
    },
    {
     "cell_type": "code",
     "collapsed": false,
     "input": [
      "def bootstrap(data, num_samples, statistic, alpha):\n",
      "    \"\"\"Returns bootstrap estimate of 100.0*(1-alpha) CI for statistic.\"\"\"\n",
      "    n = len(data)\n",
      "    idx = npr.randint(0, n, (num_samples, n))\n",
      "    samples = x[idx]\n",
      "    stat = np.sort(statistic(samples, 1))\n",
      "    return (stat[int((alpha/2.0)*num_samples)],\n",
      "            stat[int((1-alpha/2.0)*num_samples)])"
     ],
     "language": "python",
     "metadata": {},
     "outputs": [],
     "prompt_number": 25
    },
    {
     "cell_type": "code",
     "collapsed": false,
     "input": [
      "# data of interest is bimodal and obviously not normal\n",
      "sample_data = np.concatenate([npr.normal(3, 1, 100), npr.normal(6, 2, 200)])"
     ],
     "language": "python",
     "metadata": {},
     "outputs": [],
     "prompt_number": 53
    },
    {
     "cell_type": "code",
     "collapsed": false,
     "input": [
      "# find mean 95% CI and 100,000 bootstrap samples\n",
      "low_mean, high_mean = bootstrap(sample_data, 100000, np.mean, 0.05)\n",
      "print low_mean\n",
      "print high_mean"
     ],
     "language": "python",
     "metadata": {},
     "outputs": [
      {
       "output_type": "stream",
       "stream": "stdout",
       "text": [
        "4.71552021645\n",
        "5.21372170394\n"
       ]
      }
     ],
     "prompt_number": 54
    },
    {
     "cell_type": "code",
     "collapsed": false,
     "input": [
      "\n",
      "# make plots\n",
      "plt.figure(figsize=(8,4))\n",
      "plt.subplot(121)\n",
      "plt.hist(sample_data, 100, histtype='step')\n",
      "plt.title('Histogram of data')\n",
      "\n",
      "plt.subplot(122)\n",
      "plt.plot([-0.03,0.03], [np.mean(sample_data), np.mean(sample_data)], 'r', linewidth=3)\n",
      "plt.scatter(0.1*(npr.random(len(sample_data))-0.5), sample_data)\n",
      "plt.plot([0.19,0.21], [low_mean, low_mean], 'r', linewidth=2)\n",
      "plt.plot([0.19,0.21], [high_mean, high_mean], 'r', linewidth=2)\n",
      "plt.plot([0.2,0.2], [low_mean, high_mean], 'r', linewidth=2)\n",
      "plt.xlim([-0.2, 0.3])\n",
      "plt.title('Bootstrap 95% CI for mean')"
     ],
     "language": "python",
     "metadata": {},
     "outputs": [
      {
       "output_type": "pyout",
       "prompt_number": 61,
       "text": [
        "<matplotlib.text.Text at 0x10acfb490>"
       ]
      },
      {
       "output_type": "display_data",
       "png": "[encoded data removed]"
      }
     ],
     "prompt_number": 61
    },
    {
     "cell_type": "code",
     "collapsed": false,
     "input": [
      "# find standard deviation 95% CI bootstrap samples\n",
      "low, high =  bootstrap(sample_data, 100000, np.std, 0.05)\n",
      "print low\n",
      "print high"
     ],
     "language": "python",
     "metadata": {},
     "outputs": [
      {
       "output_type": "stream",
       "stream": "stdout",
       "text": [
        "2.04566201879\n",
        "2.34896471454\n"
       ]
      }
     ],
     "prompt_number": 56
    },
    {
     "cell_type": "code",
     "collapsed": false,
     "input": [],
     "language": "python",
     "metadata": {},
     "outputs": []
    }
   ],
   "metadata": {}
  }
 ]
}