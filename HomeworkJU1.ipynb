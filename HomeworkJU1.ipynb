{
 "metadata": {
  "name": "HomeworkJU1"
 },
 "nbformat": 3,
 "nbformat_minor": 0,
 "worksheets": [
  {
   "cells": [
    {
     "cell_type": "heading",
     "level": 2,
     "metadata": {},
     "source": [
      "Assignment, DNA Motifs"
     ]
    },
    {
     "cell_type": "markdown",
     "metadata": {},
     "source": [
      "This assigment is based on a recent Bioinformatics Challenge presented by Genome Biology http://genomebiology.com/about/update/DNA60_STEPONE\n",
      "\n",
      "A common thing to do in bioinformatics analysis is to look for patterns in large volumes of data. In this question, we want to identify the most overrpresented 7 base pair (7 letters) motif in a set of sequences.\n",
      "\n",
      "For example, we could have this sequence (stored as a string):"
     ]
    },
    {
     "cell_type": "code",
     "collapsed": false,
     "input": [
      "test_seq = \"actgtcgtcgtg\""
     ],
     "language": "python",
     "metadata": {},
     "outputs": [],
     "prompt_number": 1
    },
    {
     "cell_type": "markdown",
     "metadata": {},
     "source": [
      "Where all the possible 4 base pair motifs are:"
     ]
    },
    {
     "cell_type": "code",
     "collapsed": false,
     "input": [
      "motifs = [\"actg\", \"ctgt\", \"tgtc\", \"gtcg\", \"tcgt\", \"cgtc\", \"gtcg\", \"tcgt\", \"cgtg\"]"
     ],
     "language": "python",
     "metadata": {},
     "outputs": [],
     "prompt_number": 2
    },
    {
     "cell_type": "markdown",
     "metadata": {},
     "source": [
      "Now, in this question, you have multiple sequences, and you have to identify the most over-represented 7-base pair motif. For this, you need to open the file, read it line by line, and in those lines where you have sequences, identify all possible 7 base pair motifs and store them. Then move to the next, and so on....\n",
      "\n",
      "The file that you have to analyze is this:\n",
      "https://dl.dropboxusercontent.com/u/24597378/DNA60IFX/motif_finding.fa\n",
      "\n",
      "To summarize the question:\n",
      "**Write a script that will parse a sequence file in fasta format, and identify the most common 7 letter word in the sequences.**\n",
      "\n"
     ]
    },
    {
     "cell_type": "heading",
     "level": 4,
     "metadata": {},
     "source": [
      "Hints"
     ]
    },
    {
     "cell_type": "markdown",
     "metadata": {},
     "source": [
      "1) The file is in fasta format, which is an standard format in sequence analysis. The format of the file is:\n",
      "\n",
      "\\>UniqID  \n",
      "ACTGACTGCACTGA  \n",
      "\\>UniqID_2  \n",
      "ACGTGGARAC  \n",
      "..."
     ]
    },
    {
     "cell_type": "markdown",
     "metadata": {},
     "source": [
      "So, you only want to read the lines with sequence, and not with the header. As a hint, there is a method for strings called _startswith_, so you can do something like this:"
     ]
    },
    {
     "cell_type": "code",
     "collapsed": false,
     "input": [
      "if line.startswith(\">\"):\n",
      "    #do something"
     ],
     "language": "python",
     "metadata": {},
     "outputs": []
    },
    {
     "cell_type": "markdown",
     "metadata": {},
     "source": [
      "2) There could be multiple ways of solving this, but the one that I did uses a dictionary sorted by value. We haven't explore this in detail, but to sort a dictionary by its value (instead of by key), you can use this:"
     ]
    },
    {
     "cell_type": "code",
     "collapsed": false,
     "input": [
      "for w in sorted(d, key=d.get, reverse=True):\n",
      "    print w, d[w]"
     ],
     "language": "python",
     "metadata": {},
     "outputs": []
    },
    {
     "cell_type": "markdown",
     "metadata": {},
     "source": [
      "for example:"
     ]
    },
    {
     "cell_type": "code",
     "collapsed": false,
     "input": [
      "seq_dict = {\"act\":1, \"ctg\":10, \"gta\":5} # A dictionary with numeric values"
     ],
     "language": "python",
     "metadata": {},
     "outputs": [],
     "prompt_number": 4
    },
    {
     "cell_type": "code",
     "collapsed": false,
     "input": [
      "for seq in sorted(seq_dict, key=seq_dict.get, reverse=True):\n",
      "    print seq, seq_dict[seq]"
     ],
     "language": "python",
     "metadata": {},
     "outputs": [
      {
       "output_type": "stream",
       "stream": "stdout",
       "text": [
        "ctg 10\n",
        "gta 5\n",
        "act 1\n"
       ]
      }
     ],
     "prompt_number": 5
    },
    {
     "cell_type": "markdown",
     "metadata": {},
     "source": [
      "the key here is this expression:"
     ]
    },
    {
     "cell_type": "code",
     "collapsed": false,
     "input": [
      "sorted(seq_dict, key=seq_dict.get, reverse=True)"
     ],
     "language": "python",
     "metadata": {},
     "outputs": [
      {
       "output_type": "pyout",
       "prompt_number": 6,
       "text": [
        "['ctg', 'gta', 'act']"
       ]
      }
     ],
     "prompt_number": 6
    },
    {
     "cell_type": "markdown",
     "metadata": {},
     "source": [
      "that returns a list of the keys ordered by the values. Then you just use a for loop to iterate over each member of the list."
     ]
    },
    {
     "cell_type": "code",
     "collapsed": false,
     "input": [],
     "language": "python",
     "metadata": {},
     "outputs": []
    }
   ],
   "metadata": {}
  }
 ]
}