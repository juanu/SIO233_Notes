{
 "metadata": {
  "name": "IntroPython_Week2"
 },
 "nbformat": 3,
 "nbformat_minor": 0,
 "worksheets": [
  {
   "cells": [
    {
     "cell_type": "heading",
     "level": 2,
     "metadata": {},
     "source": [
      "Python Scripts"
     ]
    },
    {
     "cell_type": "markdown",
     "metadata": {},
     "source": [
      "The idea behind a script is that instead of running a list of commands on the python interpreter, you can save everything in a file that can be run and re-run from the command line. You can run them like this:\n",
      "\n",
      "    python < myscript.py\n",
      "    python myscript.py\n",
      "\n",
      "or if you make the file executable:\n",
      "\n",
      "    chmod u+x myscript.py\n",
      "\n",
      "and add the identifying header line (#!/usr/bin/env python), then just write:\n",
      "\n",
      "    ./myscript.py\n",
      "\n",
      "\n",
      "For example, an script could look like this (the name of the script is printmess2.py)\n",
      "\n",
      "```\n",
      "    #! /usr/bin/env python\u2028",
      "\n",
      "    # simple Python test program 2 (printmess2.py)\u2028",
      "\n",
      "    print \"The pump don\u2019t work \u2019cuz the vandals took the handles\"\n",
      "    print 'She said \"I know what it\\\u2019s like to be dead\"'\n",
      "```\n",
      "\n",
      "Which can be run with:\n",
      "\n",
      "    ./printmess2.py\n",
      "\n",
      "   \n",
      "This is the output of the code:"
     ]
    },
    {
     "cell_type": "code",
     "collapsed": false,
     "input": [
      "#!/usr/bin/env/ python\n",
      "# simple Python test program\n",
      "print \"The pump don\u2019t work \u2019cuz the vandals took the handles\"\n",
      "print 'She said \"I know what it\\'s like to be dead\"'"
     ],
     "language": "python",
     "metadata": {},
     "outputs": [
      {
       "output_type": "stream",
       "stream": "stdout",
       "text": [
        "The pump don\u2019t work \u2019cuz the vandals took the handles\n",
        "She said \"I know what it's like to be dead\"\n"
       ]
      }
     ],
     "prompt_number": 21
    },
    {
     "cell_type": "markdown",
     "metadata": {},
     "source": [
      "Notice the need to escape the ' simbol. (Similar to what we did previously on bash). \n",
      "\n",
      "Before going into the details of decision loops, code blocks, etc, I want to show an example of how with what we know already we can start writing small scripts. This is a very basic example modified from the book Practical Computing for Biologists (my apologies to the non-biology audience...there will other examples in the future :) )"
     ]
    },
    {
     "cell_type": "code",
     "collapsed": false,
     "input": [
      "#!/usr/bin/env python\n",
      "# This program takes a DNA sequence (withouth checking)\n",
      "# and shows its length and the nucleotide composition\n",
      "\n",
      "DNASeq = \"AT G aA C \"\n",
      "DNASeq = DNASeq.upper() # Convert everything to uppercase for .count() function\n",
      "DNASeq = DNASeq.replace(\" \", \"\") # This will remove the spaces in the string\n",
      "\n",
      "print \"Sequence: \", DNASeq\n",
      "\n",
      "SeqLength = float(len(DNASeq)) # Length of the string, in this case the DNA sequence\n",
      "\n",
      "print \"Sequence Length:\", SeqLength\n",
      "\n",
      "NumberA = DNASeq.count(\"A\")  # Count the occurrence of A\n",
      "NumberC = DNASeq.count(\"C\")  # Count the occurrence of C\n",
      "NumberG = DNASeq.count(\"G\")  # Count the occurrence of G\n",
      "NumberT = DNASeq.count(\"T\")  # Count the occurrence of T\n",
      "\n",
      "#Now print the results\n",
      "#We use the % operator (more on this later)\n",
      "\n",
      "print \"A: %.1f\" % (100 * NumberA / SeqLength)\n",
      "print \"C: %.1f\" % (100 * NumberC / SeqLength)\n",
      "print \"G: %.1f\" % (100 * NumberG / SeqLength)\n",
      "print \"T: %.1f\" % (100 * NumberT / SeqLength)\n",
      "\n",
      "\n",
      "\n"
     ],
     "language": "python",
     "metadata": {},
     "outputs": [
      {
       "output_type": "stream",
       "stream": "stdout",
       "text": [
        "Sequence:  ATGAAC\n",
        "Sequence Length: 6.0\n",
        "A: 50.0\n",
        "C: 16.7\n",
        "G: 16.7\n",
        "T: 16.7\n"
       ]
      }
     ],
     "prompt_number": 28
    },
    {
     "cell_type": "markdown",
     "metadata": {},
     "source": [
      "Note that we use the % operator. This inserts the values that are present to the right side of the % symbol. \n",
      "\n",
      "Placeholder indicate if the substitution is:\n",
      "\n",
      "* An integer digit %d\n",
      "* A floating point number %f\n",
      "* A string %s\n",
      "\n",
      "For example, looking at the previous script, if we write:\n",
      "```\n",
      "print \"A occurs in %d bases out of %d.\" % (NumberA, SeqLength)\n",
      "```\n",
      "\n",
      "The output is:\n",
      "```\n",
      "A occurs in 3 bases out of 6\n",
      "```\n",
      "\n",
      "We can also control the number of decimal places that are printer, by using the floating point placeholder modified by the insertion of a decimanl precision specifier, like in the example (%.1f)"
     ]
    },
    {
     "cell_type": "heading",
     "level": 3,
     "metadata": {},
     "source": [
      "Running Scripts on the terminal, using Canopy"
     ]
    },
    {
     "cell_type": "markdown",
     "metadata": {},
     "source": [
      "One thing that we haven't talked in detail is running the scripts on the terminal (bash, remember?). We have been using the interactive and scripting editors of Canopy, but sometimes you just want to run things on the terminal.\n",
      "\n",
      "If you are on a Mac, this is the location of the python interpreter:\n",
      "~/Library/Enthought/Canopy_64bit/User/bin/python\n",
      "\n",
      "So you can write\n",
      "'''\n",
      "~/Library/Enthought/Canopy_64bit/User/bin/python script_name.py \n",
      "'''\n",
      "And that will run the script_name.py python file, using Canopy python.\n",
      "\n",
      "Of course, you can add ~/Library/Enthought/Canopy_64bit/User/bin/python to your bashrc with an alias (like python_canopy), to make things easier...and you all know how to do that by now, right? :)\n",
      "\n",
      "If you are using the Barnyard computers (either local o remotely), Enthough Canopy is the python by default in those machines.\n",
      "\n",
      "On Windows, the location of Python Canopy is:\n",
      "C:\\Users\\<username>\\AppData\\Local\\Enthought\\Canopy\\User\\Scripts\n",
      "\n",
      "(I don't have a way to test this...)\n",
      "\n",
      "All these information is available here:\n",
      "https://support.enthought.com/entries/23646538-Make-Canopy-User-Python-be-your-default-Python-i-e-on-the-PATH-\n",
      "\n",
      "\n"
     ]
    },
    {
     "cell_type": "heading",
     "level": 3,
     "metadata": {},
     "source": [
      "Code Blocks"
     ]
    },
    {
     "cell_type": "markdown",
     "metadata": {},
     "source": [
      "As it was mentioned in the class, the statement syntax in python is different from other languages. In Python, **indentation is used to indicate blocks of code**.\n",
      "For example, this is an example in a C-like language (C, C++, Perl, etc):\n",
      "```\n",
      "if (x>y){\n",
      "    x = 1;\n",
      "    y = 2;\n",
      "}\n",
      "```\n",
      "\n",
      "In here the block to be run by the if statement is delimited by { and } So, you can easily write this too:\n",
      "```\n",
      "if (x>y){x=1;y=2;}\n",
      "```\n",
      "\n",
      "Now the equivalent on Python is this:\n",
      "```\n",
      "if x > y:\n",
      "    x = 1\n",
      "    y =2\n",
      "```\n",
      "\n",
      "All Python compound statements follow the same general pattern:\n",
      "\n",
      "```\n",
      "program statement\n",
      "block 1 top statement:\n",
      "    block 1 statement\n",
      "    block 1 statement\n",
      "    block 2 top statement:\n",
      "        block 2 statement\n",
      "        block 2 statement\n",
      "        block 3 top statement:\n",
      "            block 3 statement\n",
      "            block 3 statement\n",
      "        block 2 statement\n",
      "        block 2 statement\n",
      "    block 1 statement\n",
      "program statement\n",
      "```\n",
      "\n",
      "So remeber, the indentation is not (only) for aesthetic purposes, is a requirement!.\n",
      "\n"
     ]
    },
    {
     "cell_type": "markdown",
     "metadata": {},
     "source": [
      "Two commands that are useful to control the flow of a block are:\n",
      "\n",
      "**break** this breaks out of the code block\n",
      "\n",
      "**pass** this does nothing. This can be used to put a code of block before writing any content in it:\n"
     ]
    },
    {
     "cell_type": "heading",
     "level": 4,
     "metadata": {},
     "source": [
      "The for loop"
     ]
    },
    {
     "cell_type": "markdown",
     "metadata": {},
     "source": [
      "A short example (in script format) of this loop:\n",
      "```\n",
      "#!/usr/bin/env python\u2028",
      "\n",
      "mylist=[42,\u2018spam\u2019,\u2018ocelot\u2019]\u2028",
      "\n",
      "for i in range(0,len(mylist),1): # note absence of Indices list, start and step\n",
      "print mylist[i] print \u2019All done\u2019\n",
      "```\n",
      "\n",
      "Let's see what is going here!"
     ]
    },
    {
     "cell_type": "code",
     "collapsed": false,
     "input": [
      "mylist=[42,'spam','ocelot'] # First we define a list with three elements"
     ],
     "language": "python",
     "metadata": {},
     "outputs": [],
     "prompt_number": 32
    },
    {
     "cell_type": "code",
     "collapsed": false,
     "input": [
      "for i in range (0,len(mylist),1):  # we define the element i, that goes from 0 to the length of my list, increasing in steps of 1\n",
      "    print mylist[i] # We print the i element of mylist\n",
      "print 'All done' # And we are done!"
     ],
     "language": "python",
     "metadata": {},
     "outputs": [
      {
       "output_type": "stream",
       "stream": "stdout",
       "text": [
        "42\n",
        "spam\n",
        "ocelot\n",
        "All done\n"
       ]
      }
     ],
     "prompt_number": 36
    },
    {
     "cell_type": "markdown",
     "metadata": {},
     "source": [
      "Now, in Python if you want to iterate over each element of a list (or dictionary), you don't have to do all that declaration."
     ]
    },
    {
     "cell_type": "code",
     "collapsed": false,
     "input": [
      "for item in mylist: # Each item that is present in mylist\n",
      "    print item\n",
      "print \"All done\""
     ],
     "language": "python",
     "metadata": {},
     "outputs": [
      {
       "output_type": "stream",
       "stream": "stdout",
       "text": [
        "42\n",
        "spam\n",
        "ocelot\n",
        "All done\n"
       ]
      }
     ],
     "prompt_number": 37
    },
    {
     "cell_type": "markdown",
     "metadata": {},
     "source": [
      "And the result is just the same.\n",
      "\n",
      "Here is a more complex example (Again, this is a script. You can copy the following code, paste it on a text file and use the terminal to run it)\n",
      "```\n",
      "#! /usr/bin/env python\u2028",
      "\n",
      "import numpy as np\u2028",
      "\n",
      "deg2rad = np.pi/180. # remember conversion to radians\u2028",
      " \n",
      "for theta in range(90): # short form of range, returns [0,1,2...89]\n",
      "    ctheta = np.cos(theta*deg2rad) # define ctheta as cosine of theta\n",
      "    stheta = np.sin(theta*deg2rad)# define stheta as sine of theta\n",
      "    ttheta = np.tan(theta*deg2rad) # define ttheta as tangent of theta\n",
      "print \u2019%5.1f %8.4f %8.4f %8.4f\u2019 %(theta, ctheta, stheta, ttheta)\n",
      "```\n",
      "\n",
      "Let's look at this more in detail"
     ]
    },
    {
     "cell_type": "code",
     "collapsed": false,
     "input": [
      "import numpy as np # We are going to use the numpy library, so we have to import it"
     ],
     "language": "python",
     "metadata": {},
     "outputs": [],
     "prompt_number": 38
    },
    {
     "cell_type": "code",
     "collapsed": false,
     "input": [
      "deg2rad = np.pi/180 # We define the deg2rad variable"
     ],
     "language": "python",
     "metadata": {},
     "outputs": [],
     "prompt_number": 41
    },
    {
     "cell_type": "code",
     "collapsed": false,
     "input": [
      "for theta in range(90): # theta will be numbers from 0 to 89\n",
      "    ctheta = np.cos(theta*deg2rad) # define ctheta as cosine of theta\n",
      "    stheta = np.sin(theta*deg2rad) # define stheta as sine of theta\n",
      "    ttheta = np.tan(theta*deg2rad) # define ttheta as tangent of theta\n",
      "\n",
      "print '%5.1f %8.4f %8.4f %8.4f' % (theta, ctheta, stheta, ttheta) # This allows for nice printing of the numbers\n",
      "\n",
      "print theta, ctheta, stheta, ttheta  # Not a nice-looking line :)"
     ],
     "language": "python",
     "metadata": {},
     "outputs": [
      {
       "output_type": "stream",
       "stream": "stdout",
       "text": [
        " 89.0   0.0175   0.9998  57.2900\n",
        "89 0.0174524064373"
       ]
      },
      {
       "output_type": "stream",
       "stream": "stdout",
       "text": [
        " 0.999847695156 57.2899616308\n"
       ]
      }
     ],
     "prompt_number": 48
    },
    {
     "cell_type": "heading",
     "level": 4,
     "metadata": {},
     "source": [
      "If an while loops"
     ]
    },
    {
     "cell_type": "markdown",
     "metadata": {},
     "source": [
      "In both of these cases, the code block is executed if the top statement is TRUE. For the _if_ block, the code is executed once, but in a _while_ block, the code keeps executing as long as the statement remains TRUE.\n",
      "\n",
      "A quick example:"
     ]
    },
    {
     "cell_type": "code",
     "collapsed": false,
     "input": [
      "if (2+2)==4:  # Note the use of '==' this means equal to. \n",
      "    print \" I can put two and two together!\""
     ],
     "language": "python",
     "metadata": {},
     "outputs": [
      {
       "output_type": "stream",
       "stream": "stdout",
       "text": [
        " I can put two and two together!\n"
       ]
      }
     ],
     "prompt_number": 50
    },
    {
     "cell_type": "markdown",
     "metadata": {},
     "source": [
      "Now, maybe the if statement is not always TRUE, but you want things to occur. This is where the _elif_ and _else_ statements are useful. Let's look at this script:\n",
      "\n",
      "```\n",
      "#!/usr/bin/env python\u2028",
      "\n",
      "mylist=['jane','doug','denise'] \n",
      "if 'susie' in mylist:\n",
      "    pass # don't do anything \n",
      "if 'susie' not in mylist:\n",
      "    print 'call susie and apologize!'\n",
      "    mylist.append('susie')\u2028",
      "\n",
      "elif 'george' in mylist: # if first statement is false, try this one\n",
      "    print 'susie and george both in list' \n",
      "else: # if both statements are false, do this:\n",
      "    print \"susie in list but george isn't\"\n",
      "```\n",
      "\n",
      "Let's see what is going in here"
     ]
    },
    {
     "cell_type": "code",
     "collapsed": false,
     "input": [
      "mylist = ['jane','doug','denise'] # We define this list with three elements\n",
      "mylist # I just want to show how the list looks"
     ],
     "language": "python",
     "metadata": {},
     "outputs": [
      {
       "output_type": "pyout",
       "prompt_number": 52,
       "text": [
        "['jane', 'doug', 'denise']"
       ]
      }
     ],
     "prompt_number": 52
    },
    {
     "cell_type": "code",
     "collapsed": false,
     "input": [
      "if 'susie' in mylist:  # We check if susie is in the list\n",
      "    pass # If susie is in the list, we pass (nothing happens)\n",
      "\n",
      "if 'susie' not in mylist: # If susie is not in the list\n",
      "    print \"call susie and apologize!\" # We print this line\n",
      "    mylist.append(\"susie\") # We add susie to the list\n",
      "\n",
      "elif \"george\" in mylist:  # If the previous statement was false (if susie not in mylist), try this one. Check if george is in the list\n",
      "    print \"susie and goerge both in the list\"\n",
      "\n",
      "else: # if both the previous two statements were false\n",
      "    print \"susie in list but george isn't\""
     ],
     "language": "python",
     "metadata": {},
     "outputs": [
      {
       "output_type": "stream",
       "stream": "stdout",
       "text": [
        "call susie and apologize!\n"
       ]
      }
     ],
     "prompt_number": 54
    },
    {
     "cell_type": "markdown",
     "metadata": {},
     "source": [
      "But the list now is different!"
     ]
    },
    {
     "cell_type": "code",
     "collapsed": false,
     "input": [
      "mylist"
     ],
     "language": "python",
     "metadata": {},
     "outputs": [
      {
       "output_type": "pyout",
       "prompt_number": 55,
       "text": [
        "['jane', 'doug', 'denise', 'susie']"
       ]
      }
     ],
     "prompt_number": 55
    },
    {
     "cell_type": "markdown",
     "metadata": {},
     "source": [
      "So, if I ran this code again:"
     ]
    },
    {
     "cell_type": "code",
     "collapsed": false,
     "input": [
      "if 'susie' in mylist:  # We check if susie is in the list\n",
      "    pass # If susie is in the list, we pass (nothing happens)\n",
      "\n",
      "if 'susie' not in mylist: # If susie is not in the list\n",
      "    print \"call susie and apologize!\" # We print this line\n",
      "    mylist.append(\"susie\") # We add susie to the list\n",
      "\n",
      "elif \"george\" in mylist:  # If the previous statement was false (if susie not in mylist), try this one. Check if george is in the list\n",
      "    print \"susie and goerge both in the list\"\n",
      "\n",
      "else: # if both the previous two statements were false\n",
      "    print \"susie in list but george isn't\""
     ],
     "language": "python",
     "metadata": {},
     "outputs": [
      {
       "output_type": "stream",
       "stream": "stdout",
       "text": [
        "susie in list but george isn't\n"
       ]
      }
     ],
     "prompt_number": 57
    },
    {
     "cell_type": "markdown",
     "metadata": {},
     "source": [
      "The output is different, because we changed the list on the first time, by adding susie."
     ]
    },
    {
     "cell_type": "markdown",
     "metadata": {},
     "source": [
      "Now a while loop, will run as long as the top statement is true:\n",
      "```\n",
      "#!/usr/bin/env python\u2028",
      "\n",
      "a = 1\n",
      "while a < 10:\n",
      "    print a\n",
      "    a += 1\n",
      "print \"I'm done counting\"\n",
      "```"
     ]
    },
    {
     "cell_type": "code",
     "collapsed": false,
     "input": [
      "a = 1 # We first need to define a. In this case, as 1"
     ],
     "language": "python",
     "metadata": {},
     "outputs": [],
     "prompt_number": 58
    },
    {
     "cell_type": "code",
     "collapsed": false,
     "input": [
      "while a < 10: # As long as a is smaller than 10, the loop will run\n",
      "    print a # Print a\n",
      "    a += 1 # Add 1 to a. This is important!. Several times I forgot to add this, and the loop runs indefinitely.\n",
      "print \"I'm done counting\" # As long as the conditions are met, the loop finishes, and we print this."
     ],
     "language": "python",
     "metadata": {},
     "outputs": [
      {
       "output_type": "stream",
       "stream": "stdout",
       "text": [
        "1\n",
        "2\n",
        "3\n",
        "4\n",
        "5\n",
        "6\n",
        "7\n",
        "8\n",
        "9\n",
        "I'm done counting\n"
       ]
      }
     ],
     "prompt_number": 59
    },
    {
     "cell_type": "heading",
     "level": 3,
     "metadata": {},
     "source": [
      "Reading Data"
     ]
    },
    {
     "cell_type": "markdown",
     "metadata": {},
     "source": [
      "At some point you will want to interact with other files, process data, etc, not only write small calculations on a script (or the interactive prompt). \n",
      "\n",
      "To open a file we use the command _open_, which is built-in on Python. These function, as others that we already saw, returns an object with several methods. \n",
      "For example, this is the script ReadStations.py, that will open the file station.list, read the data and print it out.\n",
      "\n",
      "\n",
      "```\n",
      "#!/usr/bin/env python\u2028",
      "\n",
      "f = open('station.list')\n",
      "StationNFO = f.readlines()\n",
      "for line in StationNFO:\n",
      "    print line\n",
      "```\n",
      "\n",
      "Let's look at the script!"
     ]
    },
    {
     "cell_type": "code",
     "collapsed": false,
     "input": [
      "f = open('station.list') # This commands will read the file and store it in the object f.\n",
      "                         # The file has to be on the same folder where the script is running or you have\n",
      "                         # to provide the file"
     ],
     "language": "python",
     "metadata": {},
     "outputs": [
      {
       "ename": "IOError",
       "evalue": "[Errno 2] No such file or directory: 'station.list'",
       "output_type": "pyerr",
       "traceback": [
        "\u001b[0;31m---------------------------------------------------------------------------\u001b[0m\n\u001b[0;31mIOError\u001b[0m                                   Traceback (most recent call last)",
        "\u001b[0;32m<ipython-input-61-55fd278a532e>\u001b[0m in \u001b[0;36m<module>\u001b[0;34m()\u001b[0m\n\u001b[0;32m----> 1\u001b[0;31m \u001b[0mf\u001b[0m \u001b[0;34m=\u001b[0m \u001b[0mopen\u001b[0m\u001b[0;34m(\u001b[0m\u001b[0;34m'station.list'\u001b[0m\u001b[0;34m)\u001b[0m \u001b[0;31m# This commands will read the file and store it in the object f.\u001b[0m\u001b[0;34m\u001b[0m\u001b[0m\n\u001b[0m\u001b[1;32m      2\u001b[0m                          \u001b[0;31m# The file has to be on the same folder where the script is running or you have\u001b[0m\u001b[0;34m\u001b[0m\u001b[0;34m\u001b[0m\u001b[0m\n\u001b[1;32m      3\u001b[0m                          \u001b[0;31m# to provide the file\u001b[0m\u001b[0;34m\u001b[0m\u001b[0;34m\u001b[0m\u001b[0m\n",
        "\u001b[0;31mIOError\u001b[0m: [Errno 2] No such file or directory: 'station.list'"
       ]
      }
     ],
     "prompt_number": 61
    },
    {
     "cell_type": "markdown",
     "metadata": {},
     "source": [
      "In here, I didn't provide the full path to the file, because it wasn't on the folder where I'm running this IPython session (or if you are running as a script, is not on the same folder where you are running the script). So I need to fix this. In my computer the file is located in /Users/juan/Documents/sio233/station.list (this could be different in your computer!)"
     ]
    },
    {
     "cell_type": "code",
     "collapsed": false,
     "input": [
      "f = open('/Users/juan/Documents/sio233/station.list') # The correct path"
     ],
     "language": "python",
     "metadata": {},
     "outputs": [],
     "prompt_number": 62
    },
    {
     "cell_type": "code",
     "collapsed": false,
     "input": [
      "f # Just to show the object"
     ],
     "language": "python",
     "metadata": {},
     "outputs": [
      {
       "output_type": "pyout",
       "prompt_number": 64,
       "text": [
        "<open file '/Users/juan/Documents/sio233/station.list', mode 'r' at 0x103675f60>"
       ]
      }
     ],
     "prompt_number": 64
    },
    {
     "cell_type": "code",
     "collapsed": false,
     "input": [
      "StationNFO = f.readlines() # This will read the lines and store them in a list, called StationNFO"
     ],
     "language": "python",
     "metadata": {},
     "outputs": [],
     "prompt_number": 65
    },
    {
     "cell_type": "code",
     "collapsed": false,
     "input": [
      "for line in StationNFO:\n",
      "    print line"
     ],
     "language": "python",
     "metadata": {},
     "outputs": [
      {
       "output_type": "stream",
       "stream": "stdout",
       "text": [
        "   9.02920   38.76560 2442 AAE \r\n",
        "\n",
        "  42.63900   74.49400 1645 AAK \r\n",
        "\n",
        "  37.93040   58.11890  678 ABKT\r\n",
        "\n",
        "  51.88370 -176.68440  116 ADK \r\n",
        "\n",
        " -13.90930 -171.77730  706 AFI \r\n",
        "\n",
        "  82.50330  -62.35000   60 ALE \r\n",
        "\n",
        "  34.94620 -106.45670 1840 ALQ \r\n",
        "\n",
        "  34.94620 -106.45670 1840 ANMO\r\n",
        "\n",
        "  39.86890   32.79359  883 ANTO\r\n",
        "\n",
        "  42.35389   13.40500  720 AQU \r\n",
        "\n",
        "  56.43020   58.56250  250 ARU \r\n",
        "\n",
        "  -7.93270  -14.36010  173 ASCN\r\n",
        "\n",
        "  32.68000 -116.67200  548 BAR \r\n",
        "\n",
        " -15.64176  -48.01478 1195 BDFB\r\n",
        "\n",
        "  48.33194    8.33111  739 BFO \r\n",
        "\n",
        "   5.17636   18.42422  676 BGCA\r\n",
        "\n",
        "  44.80260   20.51580  250 BGY \r\n",
        "\n",
        "  68.06511  166.45239  299 BILL\r\n",
        "\n",
        "  40.04030  116.17500   43 BJI \r\n",
        "\n",
        "  40.01830  116.16790  197 BJT \r\n",
        "\n",
        "  45.05250    6.67800 1395 BNI \r\n",
        "\n",
        "   4.58690  -74.04320 3160 BOCO\r\n",
        "\n",
        "  64.74740  -21.32680  110 BORG\r\n",
        "\n",
        " -28.61410   25.25553 1280 BOSA\r\n",
        "\n",
        "  53.05810   70.28280  330 BRVK\r\n",
        "\n",
        "   1.3608   103.7729    64 BTDF\r\n",
        "\n",
        "  34.14300 -118.62700    0 CALB\r\n",
        "\n",
        " -35.32083  148.99861  700 CAN \r\n",
        "\n",
        " -66.27920  110.53640  159 CASY\r\n",
        "\n",
        "  38.05570  -91.24460  222 CCM \r\n",
        "\n",
        "  18.79000   98.97690  316 CHTO\r\n",
        "\n",
        "  38.03500 -120.38500  719 CMB \r\n",
        "\n",
        "  37.76370  -25.52430  429 CMLA\r\n",
        "\n",
        " -12.19010   96.83490    1 COCO\r\n",
        "\n",
        "  64.90000 -147.79330  320 COL \r\n",
        "\n",
        "  64.87380 -147.85110  194 COLA\r\n",
        "\n",
        "  44.58570 -123.30320  121 COR \r\n",
        "\n",
        " -26.33064  -57.33087  105 CPUP\r\n",
        "\n",
        " -20.08820  146.25450  357 CTAO\r\n",
        "\n",
        "  36.43988 -118.08016 1553 CWC \r\n",
        "\n",
        "   7.08780  125.57470   85 DAV \r\n",
        "\n",
        "   6.67016   -4.85656  125 DBIC\r\n",
        "\n",
        "  33.65000 -117.00900  700 DGR \r\n",
        "\n",
        "  50.35830   16.41110  760 DPC \r\n",
        "\n",
        "  28.11020  -81.4327    20 DWPF\r\n",
        "\n",
        " -51.67530  -58.06370  110 EFI \r\n",
        "\n",
        "  30.27180  109.48680  487 ENH \r\n",
        "\n",
        "  42.01500  143.15720   40 ERM \r\n",
        "\n",
        "  55.31670   -3.20500  242 ESK \r\n",
        "\n",
        "  54.72500 -101.97830  338 FFC \r\n",
        "\n",
        "   8.90300   38.68830 2545 FURI\r\n",
        "\n",
        "  39.00000   70.31670 1300 GAR \r\n",
        "\n",
        "  34.33820   9.726500  250 GFA \r\n",
        "\n",
        "  33.05200 -114.82700  627 GLA \r\n",
        "\n",
        "  40.05300   44.72400 1460 GNI \r\n",
        "\n",
        "  35.64940 -117.66190  735 GPO \r\n",
        "\n",
        "  49.69190   11.22170  425 GRFO\r\n",
        "\n",
        "  35.30280 -116.80830  990 GSC \r\n",
        "\n",
        "  13.58780  144.86620   14 GUMO\r\n",
        "\n",
        "  49.26670  119.74170  610 HIA \r\n",
        "\n",
        "  29.96180  -95.83840 -415 HKT \r\n",
        "\n",
        "  -9.43220  159.94710   72 HNR \r\n",
        "\n",
        " -54.28360  -36.48790   20 HOPE\r\n",
        "\n",
        "  42.50600  -71.55800  180 HRV \r\n",
        "\n",
        "  17.41694   78.55305  510 HYB \r\n",
        "\n",
        "  37.48330  126.63330  420 INCN\r\n",
        "\n",
        "  35.34861  137.02900  140 INU \r\n",
        "\n",
        "  35.66300 -118.47330  835 ISA \r\n",
        "\n",
        "  16.73290 -169.52920    2 JOHN\r\n",
        "\n",
        "  10.29080  -84.95250  340 JTS \r\n",
        "\n",
        "  -5.01420  119.7517    30 KAPI\r\n",
        "\n",
        "  78.92560   11.94170   77 KBS \r\n",
        "\n",
        "  57.78280 -152.58350  152 KDAK\r\n",
        "\n",
        "  29.92750   31.82920  460 KEG \r\n",
        "\n",
        "  69.75530   27.00670   80 KEV \r\n",
        "\n",
        "  50.69440   29.20830  163 KIEV\r\n",
        "\n",
        "  21.42330 -158.01500   70 KIP \r\n",
        "\n",
        "  43.95530   42.68630 1054 KIV \r\n",
        "\n",
        "  -1.12680   37.25230 1960 KMBO\r\n",
        "\n",
        "  25.12330  102.74000 1975 KMI \r\n",
        "\n",
        "  59.64910    9.59820  216 KONO\r\n",
        "\n",
        "  14.49670   -4.01400  321 KOWA\r\n",
        "\n",
        "  50.71540   78.62020  184 KURK\r\n",
        "\n",
        "   8.8019   167.61300    0 KWAJ\r\n",
        "\n",
        " -25.01510   25.59665 1128 LBTB\r\n",
        "\n",
        " -29.01110  -70.70100 2299 LCO \r\n",
        "\n",
        " -16.28790  -68.13069 4769 LPAZ\r\n",
        "\n",
        "  29.70000   91.15000 3789 LSA \r\n",
        "\n",
        " -15.27660   28.18820 1184 LSZ \r\n",
        "\n",
        " -22.61280  -68.91130 2195 LVC \r\n",
        "\n",
        "  67.89790   34.65140  630 LVZ \r\n",
        "\n",
        "  36.08670  103.84440 1560 LZH \r\n",
        "\n",
        "  59.57560  150.77000  339 MA2 \r\n",
        "\n",
        "  36.54250  138.20731  405 MAJO\r\n",
        "\n",
        "  46.80800   81.97700  600 MAKZ\r\n",
        "\n",
        "  -0.60190   30.73820 1390 MBAR\r\n",
        "\n",
        "  44.61640  129.59190  250 MDJ \r\n",
        "\n",
        "  32.81700   -4.61400  720 MDT \r\n",
        "\n",
        "  37.63100 -118.83400 2170 MLA \r\n",
        "\n",
        "  37.63100 -118.83400 2170 MLAC\r\n",
        "\n",
        "  -4.67370   55.47920  475 MSEY\r\n",
        "\n",
        "  -1.65570   13.61160  312 MSKU\r\n",
        "\n",
        " -17.73330  178.05000  783 MSVF\r\n",
        "\n",
        "  -1.27390   36.80370 1692 NAI \r\n",
        "\n",
        "  34.82300 -114.59600  139 NEE \r\n",
        "\n",
        "  33.65000   73.25120  536 NIL \r\n",
        "\n",
        " -11.98750  -76.84220  575 NNA \r\n",
        "\n",
        "  69.50490   88.44140   92 NRIL\r\n",
        "\n",
        "  54.84040   83.23460  150 NVS \r\n",
        "\n",
        " -32.92660  117.23330  265 NWAO\r\n",
        "\n",
        "  55.11380   36.56870  160 OBN \r\n",
        "\n",
        "  34.61450 -118.72350  706 OSI \r\n",
        "\n",
        "  39.54580   -4.34830  925 PAB \r\n",
        "\n",
        "  34.14830 -118.17170  295 PAS \r\n",
        "\n",
        "  -0.67410  -90.28630  295 PAYG\r\n",
        "\n",
        "  53.02350  158.64980  150 PET \r\n",
        "\n",
        "  33.60920 -116.45530 1280 PFO \r\n",
        "\n",
        "  33.60900 -116.45530 1280 PFOT\r\n",
        "\n",
        "  33.60900 -116.45530 1280 PFO_\r\n",
        "\n",
        " -40.73277  -70.55083 1050 PLCA\r\n",
        "\n",
        "  -9.40920  147.15390   67 PMG \r\n",
        "\n",
        " -64.77420  -64.04900   10 PMSA\r\n",
        "\n",
        " -25.07283 -130.09467  195 PTCN\r\n",
        "\n",
        "  -0.73080  -59.96660  237 PTGA\r\n",
        "\n",
        "  19.02940  109.84330  230 QIZ \r\n",
        "\n",
        "  46.04030 -122.88510   11 RAIO\r\n",
        "\n",
        " -21.21250 -159.77330   28 RAR \r\n",
        "\n",
        "  23.52250   45.50320  631 RAYN\r\n",
        "\n",
        "  -5.82750  -35.9014   420 RCBR\r\n",
        "\n",
        " -27.12670 -109.33440  110 RPN \r\n",
        "\n",
        "  33.74380 -118.40350  115 RPV \r\n",
        "\n",
        " -77.84912  166.75729   20 SBA \r\n",
        "\n",
        "  34.44170 -119.71330   90 SBC \r\n",
        "\n",
        "   8.87900  -70.63300 1550 SDV \r\n",
        "\n",
        "  66.99670  -50.61560  365 SFJ \r\n",
        "\n",
        " -15.95880   -5.74570  537 SHEL\r\n",
        "\n",
        "  18.11170  -66.15000  457 SJG \r\n",
        "\n",
        "  32.94900 -115.72000  -50 SMTC\r\n",
        "\n",
        "  33.24800 -119.52400  227 SNCC\r\n",
        "\n",
        " -41.31030  174.70461   62 SNZO\r\n",
        "\n",
        " -89.99540  115.00000 2927 SPA \r\n",
        "\n",
        "  45.27917    4.54167  700 SSB \r\n",
        "\n",
        "  31.09510  121.18590   15 SSE \r\n",
        "\n",
        "  40.64010  -77.89140  352 SSPA\r\n",
        "\n",
        " -32.37970   20.81170 1770 SUR \r\n",
        "\n",
        "  34.10450 -117.09700  600 SVD \r\n",
        "\n",
        "  22.79167    5.52700 1395 TAM \r\n",
        "\n",
        "  24.97540  121.48810   53 TATO\r\n",
        "\n",
        " -42.90990  147.32040  132 TAU \r\n",
        "\n",
        "  28.67940  -17.91450  180 TBT \r\n",
        "\n",
        "  20.22640  -88.27660   69 TEIG\r\n",
        "\n",
        "  71.64900  128.86650   50 TIXI\r\n",
        "\n",
        "  51.68070  103.64380  579 TLY \r\n",
        "\n",
        "  39.88140   -4.04850  480 TOL \r\n",
        "\n",
        " -19.20220   17.58380 1240 TSUM\r\n",
        "\n",
        "  45.66000   13.79000    5 TTE \r\n",
        "\n",
        "  32.30960 -110.78460  874 TUC \r\n",
        "\n",
        "  47.86520  107.05280 1615 ULN \r\n",
        "\n",
        "  19.32900  -99.17800 2270 UNM \r\n",
        "\n",
        "  34.02100 -118.28700   60 USC \r\n",
        "\n",
        " -77.51724  161.85281  151 VNDA\r\n",
        "\n",
        "  39.49600    9.37800  370 VSL \r\n",
        "\n",
        "  34.56700 -117.33300  847 VTV \r\n",
        "\n",
        "  19.28330  166.65359    1 WAKE\r\n",
        "\n",
        "  38.22900  -86.29400  638 WCI \r\n",
        "\n",
        "  43.82110   87.69500  903 WMQ \r\n",
        "\n",
        " -19.93360  134.36000  366 WRAB\r\n",
        "\n",
        "  41.19900   79.21800 1457 WUS \r\n",
        "\n",
        "  36.13000  -87.83000  157 WVT \r\n",
        "\n",
        "  34.03130  108.92370  630 XAN \r\n",
        "\n",
        "   2.04485 -157.44531    2 XMAS\r\n",
        "\n",
        "  62.03083  129.68117  105 YAK \r\n",
        "\n",
        "  46.95830  142.76100  100 YSS \r\n",
        "\n"
       ]
      }
     ],
     "prompt_number": 68
    },
    {
     "cell_type": "markdown",
     "metadata": {},
     "source": [
      "Notice that after each line a new line command was printed, this is because each line was stored in the list, including the new line command. You can fix this by removing this, using the method _strip_"
     ]
    },
    {
     "cell_type": "code",
     "collapsed": false,
     "input": [
      "for line in StationNFO:\n",
      "    print line.strip(\"\\n\") #Here we print each line, and we strip a special character, in this case a newline"
     ],
     "language": "python",
     "metadata": {},
     "outputs": [
      {
       "output_type": "stream",
       "stream": "stdout",
       "text": [
        "   9.02920   38.76560 2442 AAE \r\n",
        "  42.63900   74.49400 1645 AAK \r\n",
        "  37.93040   58.11890  678 ABKT\r\n",
        "  51.88370 -176.68440  116 ADK \r\n",
        " -13.90930 -171.77730  706 AFI \r\n",
        "  82.50330  -62.35000   60 ALE \r\n",
        "  34.94620 -106.45670 1840 ALQ \r\n",
        "  34.94620 -106.45670 1840 ANMO\r\n",
        "  39.86890   32.79359  883 ANTO\r\n",
        "  42.35389   13.40500  720 AQU \r\n",
        "  56.43020   58.56250  250 ARU \r\n",
        "  -7.93270  -14.36010  173 ASCN\r\n",
        "  32.68000 -116.67200  548 BAR \r\n",
        " -15.64176  -48.01478 1195 BDFB\r\n",
        "  48.33194    8.33111  739 BFO \r\n",
        "   5.17636   18.42422  676 BGCA\r\n",
        "  44.80260   20.51580  250 BGY \r\n",
        "  68.06511  166.45239  299 BILL\r\n",
        "  40.04030  116.17500   43 BJI \r\n",
        "  40.01830  116.16790  197 BJT \r\n",
        "  45.05250    6.67800 1395 BNI \r\n",
        "   4.58690  -74.04320 3160 BOCO\r\n",
        "  64.74740  -21.32680  110 BORG\r\n",
        " -28.61410   25.25553 1280 BOSA\r\n",
        "  53.05810   70.28280  330 BRVK\r\n",
        "   1.3608   103.7729    64 BTDF\r\n",
        "  34.14300 -118.62700    0 CALB\r\n",
        " -35.32083  148.99861  700 CAN \r\n",
        " -66.27920  110.53640  159 CASY\r\n",
        "  38.05570  -91.24460  222 CCM \r\n",
        "  18.79000   98.97690  316 CHTO\r\n",
        "  38.03500 -120.38500  719 CMB \r\n",
        "  37.76370  -25.52430  429 CMLA\r\n",
        " -12.19010   96.83490    1 COCO\r\n",
        "  64.90000 -147.79330  320 COL \r\n",
        "  64.87380 -147.85110  194 COLA\r\n",
        "  44.58570 -123.30320  121 COR \r\n",
        " -26.33064  -57.33087  105 CPUP\r\n",
        " -20.08820  146.25450  357 CTAO\r\n",
        "  36.43988 -118.08016 1553 CWC \r\n",
        "   7.08780  125.57470   85 DAV \r\n",
        "   6.67016   -4.85656  125 DBIC\r\n",
        "  33.65000 -117.00900  700 DGR \r\n",
        "  50.35830   16.41110  760 DPC \r\n",
        "  28.11020  -81.4327    20 DWPF\r\n",
        " -51.67530  -58.06370  110 EFI \r\n",
        "  30.27180  109.48680  487 ENH \r\n",
        "  42.01500  143.15720   40 ERM \r\n",
        "  55.31670   -3.20500  242 ESK \r\n",
        "  54.72500 -101.97830  338 FFC \r\n",
        "   8.90300   38.68830 2545 FURI\r\n",
        "  39.00000   70.31670 1300 GAR \r\n",
        "  34.33820   9.726500  250 GFA \r\n",
        "  33.05200 -114.82700  627 GLA \r\n",
        "  40.05300   44.72400 1460 GNI \r\n",
        "  35.64940 -117.66190  735 GPO \r\n",
        "  49.69190   11.22170  425 GRFO\r\n",
        "  35.30280 -116.80830  990 GSC \r\n",
        "  13.58780  144.86620   14 GUMO\r\n",
        "  49.26670  119.74170  610 HIA \r\n",
        "  29.96180  -95.83840 -415 HKT \r\n",
        "  -9.43220  159.94710   72 HNR \r\n",
        " -54.28360  -36.48790   20 HOPE\r\n",
        "  42.50600  -71.55800  180 HRV \r\n",
        "  17.41694   78.55305  510 HYB \r\n",
        "  37.48330  126.63330  420 INCN\r\n",
        "  35.34861  137.02900  140 INU \r\n",
        "  35.66300 -118.47330  835 ISA \r\n",
        "  16.73290 -169.52920    2 JOHN\r\n",
        "  10.29080  -84.95250  340 JTS \r\n",
        "  -5.01420  119.7517    30 KAPI\r\n",
        "  78.92560   11.94170   77 KBS \r\n",
        "  57.78280 -152.58350  152 KDAK\r\n",
        "  29.92750   31.82920  460 KEG \r\n",
        "  69.75530   27.00670   80 KEV \r\n",
        "  50.69440   29.20830  163 KIEV\r\n",
        "  21.42330 -158.01500   70 KIP \r\n",
        "  43.95530   42.68630 1054 KIV \r\n",
        "  -1.12680   37.25230 1960 KMBO\r\n",
        "  25.12330  102.74000 1975 KMI \r\n",
        "  59.64910    9.59820  216 KONO\r\n",
        "  14.49670   -4.01400  321 KOWA\r\n",
        "  50.71540   78.62020  184 KURK\r\n",
        "   8.8019   167.61300    0 KWAJ\r\n",
        " -25.01510   25.59665 1128 LBTB\r\n",
        " -29.01110  -70.70100 2299 LCO \r\n",
        " -16.28790  -68.13069 4769 LPAZ\r\n",
        "  29.70000   91.15000 3789 LSA \r\n",
        " -15.27660   28.18820 1184 LSZ \r\n",
        " -22.61280  -68.91130 2195 LVC \r\n",
        "  67.89790   34.65140  630 LVZ \r\n",
        "  36.08670  103.84440 1560 LZH \r\n",
        "  59.57560  150.77000  339 MA2 \r\n",
        "  36.54250  138.20731  405 MAJO\r\n",
        "  46.80800   81.97700  600 MAKZ\r\n",
        "  -0.60190   30.73820 1390 MBAR\r\n",
        "  44.61640  129.59190  250 MDJ \r\n",
        "  32.81700   -4.61400  720 MDT \r\n",
        "  37.63100 -118.83400 2170 MLA \r\n",
        "  37.63100 -118.83400 2170 MLAC\r\n",
        "  -4.67370   55.47920  475 MSEY\r\n",
        "  -1.65570   13.61160  312 MSKU\r\n",
        " -17.73330  178.05000  783 MSVF\r\n",
        "  -1.27390   36.80370 1692 NAI \r\n",
        "  34.82300 -114.59600  139 NEE \r\n",
        "  33.65000   73.25120  536 NIL \r\n",
        " -11.98750  -76.84220  575 NNA \r\n",
        "  69.50490   88.44140   92 NRIL\r\n",
        "  54.84040   83.23460  150 NVS \r\n",
        " -32.92660  117.23330  265 NWAO\r\n",
        "  55.11380   36.56870  160 OBN \r\n",
        "  34.61450 -118.72350  706 OSI \r\n",
        "  39.54580   -4.34830  925 PAB \r\n",
        "  34.14830 -118.17170  295 PAS \r\n",
        "  -0.67410  -90.28630  295 PAYG\r\n",
        "  53.02350  158.64980  150 PET \r\n",
        "  33.60920 -116.45530 1280 PFO \r\n",
        "  33.60900 -116.45530 1280 PFOT\r\n",
        "  33.60900 -116.45530 1280 PFO_\r\n",
        " -40.73277  -70.55083 1050 PLCA\r\n",
        "  -9.40920  147.15390   67 PMG \r\n",
        " -64.77420  -64.04900   10 PMSA\r\n",
        " -25.07283 -130.09467  195 PTCN\r\n",
        "  -0.73080  -59.96660  237 PTGA\r\n",
        "  19.02940  109.84330  230 QIZ \r\n",
        "  46.04030 -122.88510   11 RAIO\r\n",
        " -21.21250 -159.77330   28 RAR \r\n",
        "  23.52250   45.50320  631 RAYN\r\n",
        "  -5.82750  -35.9014   420 RCBR\r\n",
        " -27.12670 -109.33440  110 RPN \r\n",
        "  33.74380 -118.40350  115 RPV \r\n",
        " -77.84912  166.75729   20 SBA \r\n",
        "  34.44170 -119.71330   90 SBC \r\n",
        "   8.87900  -70.63300 1550 SDV \r\n",
        "  66.99670  -50.61560  365 SFJ \r\n",
        " -15.95880   -5.74570  537 SHEL\r\n",
        "  18.11170  -66.15000  457 SJG \r\n",
        "  32.94900 -115.72000  -50 SMTC\r\n",
        "  33.24800 -119.52400  227 SNCC\r\n",
        " -41.31030  174.70461   62 SNZO\r\n",
        " -89.99540  115.00000 2927 SPA \r\n",
        "  45.27917    4.54167  700 SSB \r\n",
        "  31.09510  121.18590   15 SSE \r\n",
        "  40.64010  -77.89140  352 SSPA\r\n",
        " -32.37970   20.81170 1770 SUR \r\n",
        "  34.10450 -117.09700  600 SVD \r\n",
        "  22.79167    5.52700 1395 TAM \r\n",
        "  24.97540  121.48810   53 TATO\r\n",
        " -42.90990  147.32040  132 TAU \r\n",
        "  28.67940  -17.91450  180 TBT \r\n",
        "  20.22640  -88.27660   69 TEIG\r\n",
        "  71.64900  128.86650   50 TIXI\r\n",
        "  51.68070  103.64380  579 TLY \r\n",
        "  39.88140   -4.04850  480 TOL \r\n",
        " -19.20220   17.58380 1240 TSUM\r\n",
        "  45.66000   13.79000    5 TTE \r\n",
        "  32.30960 -110.78460  874 TUC \r\n",
        "  47.86520  107.05280 1615 ULN \r\n",
        "  19.32900  -99.17800 2270 UNM \r\n",
        "  34.02100 -118.28700   60 USC \r\n",
        " -77.51724  161.85281  151 VNDA\r\n",
        "  39.49600    9.37800  370 VSL \r\n",
        "  34.56700 -117.33300  847 VTV \r\n",
        "  19.28330  166.65359    1 WAKE\r\n",
        "  38.22900  -86.29400  638 WCI \r\n",
        "  43.82110   87.69500  903 WMQ \r\n",
        " -19.93360  134.36000  366 WRAB\r\n",
        "  41.19900   79.21800 1457 WUS \r\n",
        "  36.13000  -87.83000  157 WVT \r\n",
        "  34.03130  108.92370  630 XAN \r\n",
        "   2.04485 -157.44531    2 XMAS\r\n",
        "  62.03083  129.68117  105 YAK \r\n",
        "  46.95830  142.76100  100 YSS \r\n"
       ]
      }
     ],
     "prompt_number": 69
    },
    {
     "cell_type": "markdown",
     "metadata": {},
     "source": [
      "Now we want to store the data into lists. We can modify the previous script to do that, by splitting each line into the appropiate information and store that in lists.\n",
      "\n",
      "To split a line we use the method _split_, which will split a string based on any delimiter that you want to use (any!). If no separator is specified, by using _split.()_, the behavior by default is to split on spaces.\n",
      "\n",
      "Here is the modified version of the script\n",
      "\n",
      "```\n",
      "#!/usr/bin/env python\u2028",
      "\n",
      "Lats,Lons,StaALTs,StaName=[],[],[],[] #creates lists to put things in\n",
      "StationNFO=open('station.list').readlines() #combines the open and readlines methods\n",
      "for line in StationNFO:\n",
      "    nfo=line.strip('\\n').split() #strips off the line ending and splits on spaces\n",
      "    Lats.append(float(nfo[0])) #puts float of 1st column into Lats\n",
      "    Lons.append(float(nfo[1])) #puts float of 2nd column into Lons\n",
      "    StaALTs.append(int(nfo[2])) #puts integer of 3rd column into StaIDs\n",
      "    StaName.append(nfo[3]) #puts the ID string into StaName\n",
      "    print Lats[-1],Lons[-1],StaALTs[-1], StaName[-1] #prints out last thing appended\n",
      "```"
     ]
    },
    {
     "cell_type": "code",
     "collapsed": false,
     "input": [
      "Lats, Lons, StaALTs, StaName  = [], [], [], []  # This create the empty lists that we need"
     ],
     "language": "python",
     "metadata": {},
     "outputs": [],
     "prompt_number": 81
    },
    {
     "cell_type": "code",
     "collapsed": false,
     "input": [
      "Lats # Just to show you, that is is an empyt list right now"
     ],
     "language": "python",
     "metadata": {},
     "outputs": [
      {
       "output_type": "pyout",
       "prompt_number": 82,
       "text": [
        "[]"
       ]
      }
     ],
     "prompt_number": 82
    },
    {
     "cell_type": "code",
     "collapsed": false,
     "input": [
      "StationNFO = open (\"/Users/juan/Documents/sio233/station.list\").readlines() # Here we open the file, read the lines and store them\n",
      "                                                                            # on the list, all at the same time"
     ],
     "language": "python",
     "metadata": {},
     "outputs": [],
     "prompt_number": 83
    },
    {
     "cell_type": "code",
     "collapsed": false,
     "input": [
      "for line in StationNFO:\n",
      "    nfo = line.strip(\"\\n\").split() # First we remove the line ending of the line, then we split on spaces.\n",
      "    #The nfo object is a list that has all the elements of the line\n",
      "    #For example if the line had this: 123 3013 0413 object\n",
      "    #And we splitted on the spaces, the list has this:\n",
      "    # nfo = [\"123\", \"3013\", \"0413\", \"object\"]\n",
      "    #So now, we can use list methods to operate on this object\n",
      "    \n",
      "    Lats.append(float(nfo[0])) # takes the first element of the list, and store it on Lats as a float\n",
      "    Lons.append(float(nfo[1])) # takes the second element of the list, and store it on Lons as a float\n",
      "    StaALTs.append(int(nfo[2])) # takes the third element of the list, and store it on StateALTs as an integer\n",
      "    StaName.append(nfo[3]) #Takes the fourth element of the list, and store it as a string\n",
      "    \n",
      "    print Lats[-1], Lons[-1], StaALTs[-1], StaName[-1]  # This will print the last thing that was appended"
     ],
     "language": "python",
     "metadata": {},
     "outputs": [
      {
       "output_type": "stream",
       "stream": "stdout",
       "text": [
        "9.0292 38.7656 2442 AAE\n",
        "42.639 74.494 1645 AAK\n",
        "37.9304 58.1189 678 ABKT\n",
        "51.8837 -176.6844 116 ADK\n",
        "-13.9093 -171.7773 706 AFI\n",
        "82.5033 -62.35 60 ALE\n",
        "34.9462 -106.4567 1840 ALQ\n",
        "34.9462 -106.4567 1840 ANMO\n",
        "39.8689 32.79359 883 ANTO\n",
        "42.35389 13.405 720 AQU\n",
        "56.4302 58.5625 250 ARU\n",
        "-7.9327 -14.3601 173 ASCN\n",
        "32.68 -116.672 548 BAR\n",
        "-15.64176 -48.01478 1195 BDFB\n",
        "48.33194 8.33111 739 BFO\n",
        "5.17636 18.42422 676 BGCA\n",
        "44.8026 20.5158 250 BGY\n",
        "68.06511 166.45239 299 BILL\n",
        "40.0403 116.175 43 BJI\n",
        "40.0183 116.1679 197 BJT\n",
        "45.0525 6.678 1395 BNI\n",
        "4.5869 -74.0432 3160 BOCO\n",
        "64.7474 -21.3268 110 BORG\n",
        "-28.6141 25.25553 1280 BOSA\n",
        "53.0581 70.2828 330 BRVK\n",
        "1.3608 103.7729 64 BTDF\n",
        "34.143 -118.627 0 CALB\n",
        "-35.32083 148.99861 700 CAN\n",
        "-66.2792 110.5364 159 CASY\n",
        "38.0557 -91.2446 222 CCM\n",
        "18.79 98.9769 316 CHTO\n",
        "38.035 -120.385 719 CMB\n",
        "37.7637 -25.5243 429 CMLA\n",
        "-12.1901 96.8349 1 COCO\n",
        "64.9 -147.7933 320 COL\n",
        "64.8738 -147.8511 194 COLA\n",
        "44.5857 -123.3032 121 COR\n",
        "-26.33064 -57.33087 105 CPUP\n",
        "-20.0882 146.2545 357 CTAO\n",
        "36.43988 -118.08016 1553 CWC\n",
        "7.0878 125.5747 85 DAV\n",
        "6.67016 -4.85656 125 DBIC\n",
        "33.65 -117.009 700 DGR\n",
        "50.3583 16.4111 760 DPC\n",
        "28.1102 -81.4327 20 DWPF\n",
        "-51.6753 -58.0637 110 EFI\n",
        "30.2718 109.4868 487 ENH\n",
        "42.015 143.1572 40 ERM\n",
        "55.3167 -3.205 242 ESK\n",
        "54.725 -101.9783 338 FFC\n",
        "8.903 38.6883 2545 FURI\n",
        "39.0 70.3167 1300 GAR\n",
        "34.3382 9.7265 250 GFA\n",
        "33.052 -114.827 627 GLA\n",
        "40.053 44.724 1460 GNI\n",
        "35.6494 -117.6619 735 GPO\n",
        "49.6919 11.2217 425 GRFO\n",
        "35.3028 -116.8083 990 GSC\n",
        "13.5878 144.8662 14 GUMO\n",
        "49.2667 119.7417 610 HIA\n",
        "29.9618 -95.8384 -415 HKT\n",
        "-9.4322 159.9471 72 HNR\n",
        "-54.2836 -36.4879 20 HOPE\n",
        "42.506 -71.558 180 HRV\n",
        "17.41694 78.55305 510 HYB\n",
        "37.4833 126.6333 420 INCN\n",
        "35.34861 137.029 140 INU\n",
        "35.663 -118.4733 835 ISA\n",
        "16.7329 -169.5292 2 JOHN\n",
        "10.2908 -84.9525 340 JTS\n",
        "-5.0142 119.7517 30 KAPI\n",
        "78.9256 11.9417 77 KBS\n",
        "57.7828 -152.5835 152 KDAK\n",
        "29.9275 31.8292 460 KEG\n",
        "69.7553 27.0067 80 KEV\n",
        "50.6944 29.2083 163 KIEV\n",
        "21.4233 -158.015 70 KIP\n",
        "43.9553 42.6863 1054 KIV\n",
        "-1.1268 37.2523 1960 KMBO\n",
        "25.1233 102.74 1975 KMI\n",
        "59.6491 9.5982 216 KONO\n",
        "14.4967 -4.014 321 KOWA\n",
        "50.7154 78.6202 184 KURK\n",
        "8.8019 167.613 0 KWAJ\n",
        "-25.0151 25.59665 1128 LBTB\n",
        "-29.0111 -70.701 2299 LCO\n",
        "-16.2879 -68.13069 4769 LPAZ\n",
        "29.7 91.15 3789 LSA\n",
        "-15.2766 28.1882 1184 LSZ\n",
        "-22.6128 -68.9113 2195 LVC\n",
        "67.8979 34.6514 630 LVZ\n",
        "36.0867 103.8444 1560 LZH\n",
        "59.5756 150.77 339 MA2\n",
        "36.5425 138.20731 405 MAJO\n",
        "46.808 81.977 600 MAKZ\n",
        "-0.6019 30.7382 1390 MBAR\n",
        "44.6164 129.5919 250 MDJ\n",
        "32.817 -4.614 720 MDT\n",
        "37.631 -118.834 2170 MLA\n",
        "37.631 -118.834 2170 MLAC\n",
        "-4.6737 55.4792 475 MSEY\n",
        "-1.6557 13.6116 312 MSKU\n",
        "-17.7333 178.05 783 MSVF\n",
        "-1.2739 36.8037 1692 NAI\n",
        "34.823 -114.596 139 NEE\n",
        "33.65 73.2512 536 NIL\n",
        "-11.9875 -76.8422 575 NNA\n",
        "69.5049 88.4414 92 NRIL\n",
        "54.8404 83.2346 150 NVS\n",
        "-32.9266 117.2333 265 NWAO\n",
        "55.1138 36.5687 160 OBN\n",
        "34.6145 -118.7235 706 OSI\n",
        "39.5458 -4.3483 925 PAB\n",
        "34.1483 -118.1717 295 PAS\n",
        "-0.6741 -90.2863 295 PAYG\n",
        "53.0235 158.6498 150 PET\n",
        "33.6092 -116.4553 1280 PFO\n",
        "33.609 -116.4553 1280 PFOT\n",
        "33.609 -116.4553 1280 PFO_\n",
        "-40.73277 -70.55083 1050 PLCA\n",
        "-9.4092 147.1539 67 PMG\n",
        "-64.7742 -64.049 10 PMSA\n",
        "-25.07283 -130.09467 195 PTCN\n",
        "-0.7308 -59.9666 237 PTGA\n",
        "19.0294 109.8433 230 QIZ\n",
        "46.0403 -122.8851 11 RAIO\n",
        "-21.2125 -159.7733 28 RAR\n",
        "23.5225 45.5032 631 RAYN\n",
        "-5.8275 -35.9014 420 RCBR\n",
        "-27.1267 -109.3344 110 RPN\n",
        "33.7438 -118.4035 115 RPV\n",
        "-77.84912 166.75729 20 SBA\n",
        "34.4417 -119.7133 90 SBC\n",
        "8.879 -70.633 1550 SDV\n",
        "66.9967 -50.6156 365 SFJ\n",
        "-15.9588"
       ]
      },
      {
       "output_type": "stream",
       "stream": "stdout",
       "text": [
        " -5.7457 537 SHEL\n",
        "18.1117 -66.15 457 SJG\n",
        "32.949 -115.72 -50 SMTC\n",
        "33.248 -119.524 227 SNCC\n",
        "-41.3103 174.70461 62 SNZO\n",
        "-89.9954 115.0 2927 SPA\n",
        "45.27917 4.54167 700 SSB\n",
        "31.0951 121.1859 15 SSE\n",
        "40.6401 -77.8914 352 SSPA\n",
        "-32.3797 20.8117 1770 SUR\n",
        "34.1045 -117.097 600 SVD\n",
        "22.79167 5.527 1395 TAM\n",
        "24.9754 121.4881 53 TATO\n",
        "-42.9099 147.3204 132 TAU\n",
        "28.6794 -17.9145 180 TBT\n",
        "20.2264 -88.2766 69 TEIG\n",
        "71.649 128.8665 50 TIXI\n",
        "51.6807 103.6438 579 TLY\n",
        "39.8814 -4.0485 480 TOL\n",
        "-19.2022 17.5838 1240 TSUM\n",
        "45.66 13.79 5 TTE\n",
        "32.3096 -110.7846 874 TUC\n",
        "47.8652 107.0528 1615 ULN\n",
        "19.329 -99.178 2270 UNM\n",
        "34.021 -118.287 60 USC\n",
        "-77.51724 161.85281 151 VNDA\n",
        "39.496 9.378 370 VSL\n",
        "34.567 -117.333 847 VTV\n",
        "19.2833 166.65359 1 WAKE\n",
        "38.229 -86.294 638 WCI\n",
        "43.8211 87.695 903 WMQ\n",
        "-19.9336 134.36 366 WRAB\n",
        "41.199 79.218 1457 WUS\n",
        "36.13 -87.83 157 WVT\n",
        "34.0313 108.9237 630 XAN\n",
        "2.04485 -157.44531 2 XMAS\n",
        "62.03083 129.68117 105 YAK\n",
        "46.9583 142.761 100 YSS\n"
       ]
      }
     ],
     "prompt_number": 84
    },
    {
     "cell_type": "markdown",
     "metadata": {},
     "source": [
      "And now in each list we have the elements stored. For example:"
     ]
    },
    {
     "cell_type": "code",
     "collapsed": false,
     "input": [
      "StaName"
     ],
     "language": "python",
     "metadata": {},
     "outputs": [
      {
       "output_type": "pyout",
       "prompt_number": 85,
       "text": [
        "['AAE',\n",
        " 'AAK',\n",
        " 'ABKT',\n",
        " 'ADK',\n",
        " 'AFI',\n",
        " 'ALE',\n",
        " 'ALQ',\n",
        " 'ANMO',\n",
        " 'ANTO',\n",
        " 'AQU',\n",
        " 'ARU',\n",
        " 'ASCN',\n",
        " 'BAR',\n",
        " 'BDFB',\n",
        " 'BFO',\n",
        " 'BGCA',\n",
        " 'BGY',\n",
        " 'BILL',\n",
        " 'BJI',\n",
        " 'BJT',\n",
        " 'BNI',\n",
        " 'BOCO',\n",
        " 'BORG',\n",
        " 'BOSA',\n",
        " 'BRVK',\n",
        " 'BTDF',\n",
        " 'CALB',\n",
        " 'CAN',\n",
        " 'CASY',\n",
        " 'CCM',\n",
        " 'CHTO',\n",
        " 'CMB',\n",
        " 'CMLA',\n",
        " 'COCO',\n",
        " 'COL',\n",
        " 'COLA',\n",
        " 'COR',\n",
        " 'CPUP',\n",
        " 'CTAO',\n",
        " 'CWC',\n",
        " 'DAV',\n",
        " 'DBIC',\n",
        " 'DGR',\n",
        " 'DPC',\n",
        " 'DWPF',\n",
        " 'EFI',\n",
        " 'ENH',\n",
        " 'ERM',\n",
        " 'ESK',\n",
        " 'FFC',\n",
        " 'FURI',\n",
        " 'GAR',\n",
        " 'GFA',\n",
        " 'GLA',\n",
        " 'GNI',\n",
        " 'GPO',\n",
        " 'GRFO',\n",
        " 'GSC',\n",
        " 'GUMO',\n",
        " 'HIA',\n",
        " 'HKT',\n",
        " 'HNR',\n",
        " 'HOPE',\n",
        " 'HRV',\n",
        " 'HYB',\n",
        " 'INCN',\n",
        " 'INU',\n",
        " 'ISA',\n",
        " 'JOHN',\n",
        " 'JTS',\n",
        " 'KAPI',\n",
        " 'KBS',\n",
        " 'KDAK',\n",
        " 'KEG',\n",
        " 'KEV',\n",
        " 'KIEV',\n",
        " 'KIP',\n",
        " 'KIV',\n",
        " 'KMBO',\n",
        " 'KMI',\n",
        " 'KONO',\n",
        " 'KOWA',\n",
        " 'KURK',\n",
        " 'KWAJ',\n",
        " 'LBTB',\n",
        " 'LCO',\n",
        " 'LPAZ',\n",
        " 'LSA',\n",
        " 'LSZ',\n",
        " 'LVC',\n",
        " 'LVZ',\n",
        " 'LZH',\n",
        " 'MA2',\n",
        " 'MAJO',\n",
        " 'MAKZ',\n",
        " 'MBAR',\n",
        " 'MDJ',\n",
        " 'MDT',\n",
        " 'MLA',\n",
        " 'MLAC',\n",
        " 'MSEY',\n",
        " 'MSKU',\n",
        " 'MSVF',\n",
        " 'NAI',\n",
        " 'NEE',\n",
        " 'NIL',\n",
        " 'NNA',\n",
        " 'NRIL',\n",
        " 'NVS',\n",
        " 'NWAO',\n",
        " 'OBN',\n",
        " 'OSI',\n",
        " 'PAB',\n",
        " 'PAS',\n",
        " 'PAYG',\n",
        " 'PET',\n",
        " 'PFO',\n",
        " 'PFOT',\n",
        " 'PFO_',\n",
        " 'PLCA',\n",
        " 'PMG',\n",
        " 'PMSA',\n",
        " 'PTCN',\n",
        " 'PTGA',\n",
        " 'QIZ',\n",
        " 'RAIO',\n",
        " 'RAR',\n",
        " 'RAYN',\n",
        " 'RCBR',\n",
        " 'RPN',\n",
        " 'RPV',\n",
        " 'SBA',\n",
        " 'SBC',\n",
        " 'SDV',\n",
        " 'SFJ',\n",
        " 'SHEL',\n",
        " 'SJG',\n",
        " 'SMTC',\n",
        " 'SNCC',\n",
        " 'SNZO',\n",
        " 'SPA',\n",
        " 'SSB',\n",
        " 'SSE',\n",
        " 'SSPA',\n",
        " 'SUR',\n",
        " 'SVD',\n",
        " 'TAM',\n",
        " 'TATO',\n",
        " 'TAU',\n",
        " 'TBT',\n",
        " 'TEIG',\n",
        " 'TIXI',\n",
        " 'TLY',\n",
        " 'TOL',\n",
        " 'TSUM',\n",
        " 'TTE',\n",
        " 'TUC',\n",
        " 'ULN',\n",
        " 'UNM',\n",
        " 'USC',\n",
        " 'VNDA',\n",
        " 'VSL',\n",
        " 'VTV',\n",
        " 'WAKE',\n",
        " 'WCI',\n",
        " 'WMQ',\n",
        " 'WRAB',\n",
        " 'WUS',\n",
        " 'WVT',\n",
        " 'XAN',\n",
        " 'XMAS',\n",
        " 'YAK',\n",
        " 'YSS']"
       ]
      }
     ],
     "prompt_number": 85
    },
    {
     "cell_type": "markdown",
     "metadata": {},
     "source": [
      "You may have noticed that the path of the file is hard-coded on the script. This could be useful for a one-time (or couple of times) script, but if is something that you will use all the time, is not a good idea.\n",
      "\n",
      "There different options on how to read the input file while running the script on the terminal. Check the pdf notes that Dr. Orcutt sent, on how to add these options to your script. "
     ]
    },
    {
     "cell_type": "heading",
     "level": 3,
     "metadata": {},
     "source": [
      "Plots"
     ]
    },
    {
     "cell_type": "code",
     "collapsed": false,
     "input": [
      "import matplotlib.pylab as plt # We have to import the functions needed for plotting. In this case is the library matplotlib.pylab, and we use\n",
      "                               # the name plt"
     ],
     "language": "python",
     "metadata": {},
     "outputs": [],
     "prompt_number": 1
    },
    {
     "cell_type": "markdown",
     "metadata": {},
     "source": [
      "Let's do a basic plot!"
     ]
    },
    {
     "cell_type": "code",
     "collapsed": false,
     "input": [
      "plt.plot([1,2,3,4]) # Makes a plot."
     ],
     "language": "python",
     "metadata": {},
     "outputs": [
      {
       "output_type": "pyout",
       "prompt_number": 46,
       "text": [
        "[<matplotlib.lines.Line2D at 0x108fc2f10>]"
       ]
      },
      {
       "output_type": "display_data",
       "png": "[encoded data removed]"
      }
     ],
     "prompt_number": 46
    },
    {
     "cell_type": "markdown",
     "metadata": {},
     "source": [
      "You may be wondering why the x-axis ranges from 0-3 and the y-axis from 1-4. If you provide a single list or array to the _plot()_ command, matplotlib assumes it is a sequence of y values, and automatically generates the x values for you. Since python ranges start with 0, the default x vector has the same length as y but starts with 0.\n",
      "\n",
      "You can save the plots by writing:\n",
      "\n",
      "    plt.savefig(\"name.png\")\n",
      "\n",
      "This will save the plot in the current folder (where you are running your script, or the working directory that you are using on Canopy). \n",
      "\n",
      "Also, notice that by default the library is joining the points with a line. You can change that by defining the type of object to draw, for example red dots:\n"
     ]
    },
    {
     "cell_type": "code",
     "collapsed": false,
     "input": [
      "plt.plot([1,2,3,4],'ro') # We use red dots instead of lines"
     ],
     "language": "python",
     "metadata": {},
     "outputs": [
      {
       "output_type": "pyout",
       "prompt_number": 47,
       "text": [
        "[<matplotlib.lines.Line2D at 0x108febbd0>]"
       ]
      },
      {
       "output_type": "display_data",
       "png": "[encoded data removed]"
      }
     ],
     "prompt_number": 47
    },
    {
     "cell_type": "markdown",
     "metadata": {},
     "source": [
      " Ok, now we will save the first plot"
     ]
    },
    {
     "cell_type": "code",
     "collapsed": false,
     "input": [
      "plt.plot([1,2,3,4]) # Makes a plot\n",
      "plt.savefig(\"FirstPlot.png\") # And save the plot"
     ],
     "language": "python",
     "metadata": {},
     "outputs": [
      {
       "output_type": "display_data",
       "png": "[encoded data removed]"
      }
     ],
     "prompt_number": 48
    },
    {
     "cell_type": "markdown",
     "metadata": {},
     "source": [
      "Let's try a more complex plot"
     ]
    },
    {
     "cell_type": "code",
     "collapsed": false,
     "input": [
      "plt.plot([1,2,3,4],[1,4,9,16],'ro') "
     ],
     "language": "python",
     "metadata": {},
     "outputs": [
      {
       "output_type": "pyout",
       "prompt_number": 52,
       "text": [
        "[<matplotlib.lines.Line2D at 0x10967c990>]"
       ]
      },
      {
       "output_type": "display_data",
       "png": "[encoded data removed]"
      }
     ],
     "prompt_number": 52
    },
    {
     "cell_type": "markdown",
     "metadata": {},
     "source": [
      "Same as before, I'm plotting the points using red dots. Notice that I'm using a list to define the X and Y elements. The two lists, for X and Y, must have the same number of elements, or you will get an error.\n",
      "\n",
      "Notice that the extreme points are not very visible on the plot, so we can adjust the axis using the command _plt.axis_"
     ]
    },
    {
     "cell_type": "code",
     "collapsed": false,
     "input": [
      "plt.plot([1,2,3,4],[1,4,9,6],'ro')\n",
      "plt.axis([0,6,0,20])"
     ],
     "language": "python",
     "metadata": {},
     "outputs": [
      {
       "output_type": "pyout",
       "prompt_number": 53,
       "text": [
        "[0, 6, 0, 20]"
       ]
      },
      {
       "output_type": "display_data",
       "png": "[encoded data removed]"
      }
     ],
     "prompt_number": 53
    },
    {
     "cell_type": "markdown",
     "metadata": {},
     "source": [
      "We can do even more complex plots, and use Numpy in the process"
     ]
    },
    {
     "cell_type": "code",
     "collapsed": false,
     "input": [
      "import numpy as np  # Here we import numpy as np on our script"
     ],
     "language": "python",
     "metadata": {},
     "outputs": [],
     "prompt_number": 54
    },
    {
     "cell_type": "code",
     "collapsed": false,
     "input": [
      "t = np.arange(0.,5.,0.2) # This will create and array in numpy, that will go from 0 to 5 on intervals of 0.2"
     ],
     "language": "python",
     "metadata": {},
     "outputs": [],
     "prompt_number": 55
    },
    {
     "cell_type": "code",
     "collapsed": false,
     "input": [
      "t"
     ],
     "language": "python",
     "metadata": {},
     "outputs": [
      {
       "output_type": "pyout",
       "prompt_number": 56,
       "text": [
        "array([ 0. ,  0.2,  0.4,  0.6,  0.8,  1. ,  1.2,  1.4,  1.6,  1.8,  2. ,\n",
        "        2.2,  2.4,  2.6,  2.8,  3. ,  3.2,  3.4,  3.6,  3.8,  4. ,  4.2,\n",
        "        4.4,  4.6,  4.8])"
       ]
      }
     ],
     "prompt_number": 56
    },
    {
     "cell_type": "code",
     "collapsed": false,
     "input": [
      "plt.plot(t,t,'r--',t,t**2,'bs',t,t**3,'g^') # Multiple lines on the same plot\n",
      "plt.savefig(\"third.pdf\")"
     ],
     "language": "python",
     "metadata": {},
     "outputs": [
      {
       "output_type": "display_data",
       "png": "[encoded data removed]"
      }
     ],
     "prompt_number": 58
    },
    {
     "cell_type": "markdown",
     "metadata": {},
     "source": [
      "On the previous plot, we plotted multiple lines onto a single plot. You can do that by combining all the lines in the same plot command. For example, in the plot we have:\n",
      "\n",
      "t,t,'r--' This will plot x=t, y=t and use red dashed lines\n",
      "t,t**2,'bs' This will plot x=t, y=t**2 (t square) and use blue squares for the symbol\n",
      "t,t**3, 'g^' This will plot x=t, y=t**3 (t cube) and use green triangles for the symbol\n",
      "\n",
      "Notice that on the _plt.savefig_ I saved the file as pdf and not png. Both formats are accepted by Matplotlib.\n",
      "\n",
      "We can plot more complicated functions, in particular a Bessel function using the Scipy library"
     ]
    },
    {
     "cell_type": "code",
     "collapsed": false,
     "input": [
      "import scipy.special as scis # Here we import the module special from scipy as scis"
     ],
     "language": "python",
     "metadata": {},
     "outputs": [],
     "prompt_number": 59
    },
    {
     "cell_type": "code",
     "collapsed": false,
     "input": [
      "t=np.arange(0.,20.,0.02) # Creates an array that goes from 0 to 20 on 0.02 intervals"
     ],
     "language": "python",
     "metadata": {},
     "outputs": [],
     "prompt_number": 62
    },
    {
     "cell_type": "code",
     "collapsed": false,
     "input": [
      "t"
     ],
     "language": "python",
     "metadata": {},
     "outputs": [
      {
       "output_type": "pyout",
       "prompt_number": 63,
       "text": [
        "array([  0.  ,   0.02,   0.04,   0.06,   0.08,   0.1 ,   0.12,   0.14,\n",
        "         0.16,   0.18,   0.2 ,   0.22,   0.24,   0.26,   0.28,   0.3 ,\n",
        "         0.32,   0.34,   0.36,   0.38,   0.4 ,   0.42,   0.44,   0.46,\n",
        "         0.48,   0.5 ,   0.52,   0.54,   0.56,   0.58,   0.6 ,   0.62,\n",
        "         0.64,   0.66,   0.68,   0.7 ,   0.72,   0.74,   0.76,   0.78,\n",
        "         0.8 ,   0.82,   0.84,   0.86,   0.88,   0.9 ,   0.92,   0.94,\n",
        "         0.96,   0.98,   1.  ,   1.02,   1.04,   1.06,   1.08,   1.1 ,\n",
        "         1.12,   1.14,   1.16,   1.18,   1.2 ,   1.22,   1.24,   1.26,\n",
        "         1.28,   1.3 ,   1.32,   1.34,   1.36,   1.38,   1.4 ,   1.42,\n",
        "         1.44,   1.46,   1.48,   1.5 ,   1.52,   1.54,   1.56,   1.58,\n",
        "         1.6 ,   1.62,   1.64,   1.66,   1.68,   1.7 ,   1.72,   1.74,\n",
        "         1.76,   1.78,   1.8 ,   1.82,   1.84,   1.86,   1.88,   1.9 ,\n",
        "         1.92,   1.94,   1.96,   1.98,   2.  ,   2.02,   2.04,   2.06,\n",
        "         2.08,   2.1 ,   2.12,   2.14,   2.16,   2.18,   2.2 ,   2.22,\n",
        "         2.24,   2.26,   2.28,   2.3 ,   2.32,   2.34,   2.36,   2.38,\n",
        "         2.4 ,   2.42,   2.44,   2.46,   2.48,   2.5 ,   2.52,   2.54,\n",
        "         2.56,   2.58,   2.6 ,   2.62,   2.64,   2.66,   2.68,   2.7 ,\n",
        "         2.72,   2.74,   2.76,   2.78,   2.8 ,   2.82,   2.84,   2.86,\n",
        "         2.88,   2.9 ,   2.92,   2.94,   2.96,   2.98,   3.  ,   3.02,\n",
        "         3.04,   3.06,   3.08,   3.1 ,   3.12,   3.14,   3.16,   3.18,\n",
        "         3.2 ,   3.22,   3.24,   3.26,   3.28,   3.3 ,   3.32,   3.34,\n",
        "         3.36,   3.38,   3.4 ,   3.42,   3.44,   3.46,   3.48,   3.5 ,\n",
        "         3.52,   3.54,   3.56,   3.58,   3.6 ,   3.62,   3.64,   3.66,\n",
        "         3.68,   3.7 ,   3.72,   3.74,   3.76,   3.78,   3.8 ,   3.82,\n",
        "         3.84,   3.86,   3.88,   3.9 ,   3.92,   3.94,   3.96,   3.98,\n",
        "         4.  ,   4.02,   4.04,   4.06,   4.08,   4.1 ,   4.12,   4.14,\n",
        "         4.16,   4.18,   4.2 ,   4.22,   4.24,   4.26,   4.28,   4.3 ,\n",
        "         4.32,   4.34,   4.36,   4.38,   4.4 ,   4.42,   4.44,   4.46,\n",
        "         4.48,   4.5 ,   4.52,   4.54,   4.56,   4.58,   4.6 ,   4.62,\n",
        "         4.64,   4.66,   4.68,   4.7 ,   4.72,   4.74,   4.76,   4.78,\n",
        "         4.8 ,   4.82,   4.84,   4.86,   4.88,   4.9 ,   4.92,   4.94,\n",
        "         4.96,   4.98,   5.  ,   5.02,   5.04,   5.06,   5.08,   5.1 ,\n",
        "         5.12,   5.14,   5.16,   5.18,   5.2 ,   5.22,   5.24,   5.26,\n",
        "         5.28,   5.3 ,   5.32,   5.34,   5.36,   5.38,   5.4 ,   5.42,\n",
        "         5.44,   5.46,   5.48,   5.5 ,   5.52,   5.54,   5.56,   5.58,\n",
        "         5.6 ,   5.62,   5.64,   5.66,   5.68,   5.7 ,   5.72,   5.74,\n",
        "         5.76,   5.78,   5.8 ,   5.82,   5.84,   5.86,   5.88,   5.9 ,\n",
        "         5.92,   5.94,   5.96,   5.98,   6.  ,   6.02,   6.04,   6.06,\n",
        "         6.08,   6.1 ,   6.12,   6.14,   6.16,   6.18,   6.2 ,   6.22,\n",
        "         6.24,   6.26,   6.28,   6.3 ,   6.32,   6.34,   6.36,   6.38,\n",
        "         6.4 ,   6.42,   6.44,   6.46,   6.48,   6.5 ,   6.52,   6.54,\n",
        "         6.56,   6.58,   6.6 ,   6.62,   6.64,   6.66,   6.68,   6.7 ,\n",
        "         6.72,   6.74,   6.76,   6.78,   6.8 ,   6.82,   6.84,   6.86,\n",
        "         6.88,   6.9 ,   6.92,   6.94,   6.96,   6.98,   7.  ,   7.02,\n",
        "         7.04,   7.06,   7.08,   7.1 ,   7.12,   7.14,   7.16,   7.18,\n",
        "         7.2 ,   7.22,   7.24,   7.26,   7.28,   7.3 ,   7.32,   7.34,\n",
        "         7.36,   7.38,   7.4 ,   7.42,   7.44,   7.46,   7.48,   7.5 ,\n",
        "         7.52,   7.54,   7.56,   7.58,   7.6 ,   7.62,   7.64,   7.66,\n",
        "         7.68,   7.7 ,   7.72,   7.74,   7.76,   7.78,   7.8 ,   7.82,\n",
        "         7.84,   7.86,   7.88,   7.9 ,   7.92,   7.94,   7.96,   7.98,\n",
        "         8.  ,   8.02,   8.04,   8.06,   8.08,   8.1 ,   8.12,   8.14,\n",
        "         8.16,   8.18,   8.2 ,   8.22,   8.24,   8.26,   8.28,   8.3 ,\n",
        "         8.32,   8.34,   8.36,   8.38,   8.4 ,   8.42,   8.44,   8.46,\n",
        "         8.48,   8.5 ,   8.52,   8.54,   8.56,   8.58,   8.6 ,   8.62,\n",
        "         8.64,   8.66,   8.68,   8.7 ,   8.72,   8.74,   8.76,   8.78,\n",
        "         8.8 ,   8.82,   8.84,   8.86,   8.88,   8.9 ,   8.92,   8.94,\n",
        "         8.96,   8.98,   9.  ,   9.02,   9.04,   9.06,   9.08,   9.1 ,\n",
        "         9.12,   9.14,   9.16,   9.18,   9.2 ,   9.22,   9.24,   9.26,\n",
        "         9.28,   9.3 ,   9.32,   9.34,   9.36,   9.38,   9.4 ,   9.42,\n",
        "         9.44,   9.46,   9.48,   9.5 ,   9.52,   9.54,   9.56,   9.58,\n",
        "         9.6 ,   9.62,   9.64,   9.66,   9.68,   9.7 ,   9.72,   9.74,\n",
        "         9.76,   9.78,   9.8 ,   9.82,   9.84,   9.86,   9.88,   9.9 ,\n",
        "         9.92,   9.94,   9.96,   9.98,  10.  ,  10.02,  10.04,  10.06,\n",
        "        10.08,  10.1 ,  10.12,  10.14,  10.16,  10.18,  10.2 ,  10.22,\n",
        "        10.24,  10.26,  10.28,  10.3 ,  10.32,  10.34,  10.36,  10.38,\n",
        "        10.4 ,  10.42,  10.44,  10.46,  10.48,  10.5 ,  10.52,  10.54,\n",
        "        10.56,  10.58,  10.6 ,  10.62,  10.64,  10.66,  10.68,  10.7 ,\n",
        "        10.72,  10.74,  10.76,  10.78,  10.8 ,  10.82,  10.84,  10.86,\n",
        "        10.88,  10.9 ,  10.92,  10.94,  10.96,  10.98,  11.  ,  11.02,\n",
        "        11.04,  11.06,  11.08,  11.1 ,  11.12,  11.14,  11.16,  11.18,\n",
        "        11.2 ,  11.22,  11.24,  11.26,  11.28,  11.3 ,  11.32,  11.34,\n",
        "        11.36,  11.38,  11.4 ,  11.42,  11.44,  11.46,  11.48,  11.5 ,\n",
        "        11.52,  11.54,  11.56,  11.58,  11.6 ,  11.62,  11.64,  11.66,\n",
        "        11.68,  11.7 ,  11.72,  11.74,  11.76,  11.78,  11.8 ,  11.82,\n",
        "        11.84,  11.86,  11.88,  11.9 ,  11.92,  11.94,  11.96,  11.98,\n",
        "        12.  ,  12.02,  12.04,  12.06,  12.08,  12.1 ,  12.12,  12.14,\n",
        "        12.16,  12.18,  12.2 ,  12.22,  12.24,  12.26,  12.28,  12.3 ,\n",
        "        12.32,  12.34,  12.36,  12.38,  12.4 ,  12.42,  12.44,  12.46,\n",
        "        12.48,  12.5 ,  12.52,  12.54,  12.56,  12.58,  12.6 ,  12.62,\n",
        "        12.64,  12.66,  12.68,  12.7 ,  12.72,  12.74,  12.76,  12.78,\n",
        "        12.8 ,  12.82,  12.84,  12.86,  12.88,  12.9 ,  12.92,  12.94,\n",
        "        12.96,  12.98,  13.  ,  13.02,  13.04,  13.06,  13.08,  13.1 ,\n",
        "        13.12,  13.14,  13.16,  13.18,  13.2 ,  13.22,  13.24,  13.26,\n",
        "        13.28,  13.3 ,  13.32,  13.34,  13.36,  13.38,  13.4 ,  13.42,\n",
        "        13.44,  13.46,  13.48,  13.5 ,  13.52,  13.54,  13.56,  13.58,\n",
        "        13.6 ,  13.62,  13.64,  13.66,  13.68,  13.7 ,  13.72,  13.74,\n",
        "        13.76,  13.78,  13.8 ,  13.82,  13.84,  13.86,  13.88,  13.9 ,\n",
        "        13.92,  13.94,  13.96,  13.98,  14.  ,  14.02,  14.04,  14.06,\n",
        "        14.08,  14.1 ,  14.12,  14.14,  14.16,  14.18,  14.2 ,  14.22,\n",
        "        14.24,  14.26,  14.28,  14.3 ,  14.32,  14.34,  14.36,  14.38,\n",
        "        14.4 ,  14.42,  14.44,  14.46,  14.48,  14.5 ,  14.52,  14.54,\n",
        "        14.56,  14.58,  14.6 ,  14.62,  14.64,  14.66,  14.68,  14.7 ,\n",
        "        14.72,  14.74,  14.76,  14.78,  14.8 ,  14.82,  14.84,  14.86,\n",
        "        14.88,  14.9 ,  14.92,  14.94,  14.96,  14.98,  15.  ,  15.02,\n",
        "        15.04,  15.06,  15.08,  15.1 ,  15.12,  15.14,  15.16,  15.18,\n",
        "        15.2 ,  15.22,  15.24,  15.26,  15.28,  15.3 ,  15.32,  15.34,\n",
        "        15.36,  15.38,  15.4 ,  15.42,  15.44,  15.46,  15.48,  15.5 ,\n",
        "        15.52,  15.54,  15.56,  15.58,  15.6 ,  15.62,  15.64,  15.66,\n",
        "        15.68,  15.7 ,  15.72,  15.74,  15.76,  15.78,  15.8 ,  15.82,\n",
        "        15.84,  15.86,  15.88,  15.9 ,  15.92,  15.94,  15.96,  15.98,\n",
        "        16.  ,  16.02,  16.04,  16.06,  16.08,  16.1 ,  16.12,  16.14,\n",
        "        16.16,  16.18,  16.2 ,  16.22,  16.24,  16.26,  16.28,  16.3 ,\n",
        "        16.32,  16.34,  16.36,  16.38,  16.4 ,  16.42,  16.44,  16.46,\n",
        "        16.48,  16.5 ,  16.52,  16.54,  16.56,  16.58,  16.6 ,  16.62,\n",
        "        16.64,  16.66,  16.68,  16.7 ,  16.72,  16.74,  16.76,  16.78,\n",
        "        16.8 ,  16.82,  16.84,  16.86,  16.88,  16.9 ,  16.92,  16.94,\n",
        "        16.96,  16.98,  17.  ,  17.02,  17.04,  17.06,  17.08,  17.1 ,\n",
        "        17.12,  17.14,  17.16,  17.18,  17.2 ,  17.22,  17.24,  17.26,\n",
        "        17.28,  17.3 ,  17.32,  17.34,  17.36,  17.38,  17.4 ,  17.42,\n",
        "        17.44,  17.46,  17.48,  17.5 ,  17.52,  17.54,  17.56,  17.58,\n",
        "        17.6 ,  17.62,  17.64,  17.66,  17.68,  17.7 ,  17.72,  17.74,\n",
        "        17.76,  17.78,  17.8 ,  17.82,  17.84,  17.86,  17.88,  17.9 ,\n",
        "        17.92,  17.94,  17.96,  17.98,  18.  ,  18.02,  18.04,  18.06,\n",
        "        18.08,  18.1 ,  18.12,  18.14,  18.16,  18.18,  18.2 ,  18.22,\n",
        "        18.24,  18.26,  18.28,  18.3 ,  18.32,  18.34,  18.36,  18.38,\n",
        "        18.4 ,  18.42,  18.44,  18.46,  18.48,  18.5 ,  18.52,  18.54,\n",
        "        18.56,  18.58,  18.6 ,  18.62,  18.64,  18.66,  18.68,  18.7 ,\n",
        "        18.72,  18.74,  18.76,  18.78,  18.8 ,  18.82,  18.84,  18.86,\n",
        "        18.88,  18.9 ,  18.92,  18.94,  18.96,  18.98,  19.  ,  19.02,\n",
        "        19.04,  19.06,  19.08,  19.1 ,  19.12,  19.14,  19.16,  19.18,\n",
        "        19.2 ,  19.22,  19.24,  19.26,  19.28,  19.3 ,  19.32,  19.34,\n",
        "        19.36,  19.38,  19.4 ,  19.42,  19.44,  19.46,  19.48,  19.5 ,\n",
        "        19.52,  19.54,  19.56,  19.58,  19.6 ,  19.62,  19.64,  19.66,\n",
        "        19.68,  19.7 ,  19.72,  19.74,  19.76,  19.78,  19.8 ,  19.82,\n",
        "        19.84,  19.86,  19.88,  19.9 ,  19.92,  19.94,  19.96,  19.98])"
       ]
      }
     ],
     "prompt_number": 63
    },
    {
     "cell_type": "markdown",
     "metadata": {},
     "source": [
      "What we need here is to get the value for the Bezel function. This is already implemented on special in Scipy, and can be called using jn. So if you write:\n",
      "\n",
      "    scis.jn(0,t)\n",
      "\n",
      "This will returns the Bessel function of real order 0 at complex t. And we can plot this!"
     ]
    },
    {
     "cell_type": "code",
     "collapsed": false,
     "input": [
      "plt.plot(t,scis.jn(0,t)) # Zero order bezel function"
     ],
     "language": "python",
     "metadata": {},
     "outputs": [
      {
       "output_type": "pyout",
       "prompt_number": 66,
       "text": [
        "[<matplotlib.lines.Line2D at 0x1097a9f10>]"
       ]
      },
      {
       "output_type": "display_data",
       "png": "[encoded data removed]"
      }
     ],
     "prompt_number": 66
    },
    {
     "cell_type": "code",
     "collapsed": false,
     "input": [
      "plt.plot(t,scis.jn(1,t)) # First order bezel function"
     ],
     "language": "python",
     "metadata": {},
     "outputs": [
      {
       "output_type": "pyout",
       "prompt_number": 67,
       "text": [
        "[<matplotlib.lines.Line2D at 0x1099b6210>]"
       ]
      },
      {
       "output_type": "display_data",
       "png": "[encoded data removed]"
      }
     ],
     "prompt_number": 67
    },
    {
     "cell_type": "code",
     "collapsed": false,
     "input": [
      "plt.plot(t,scis.jn(1,t),t,scis.jn(0,t)) # We can plot both functions together"
     ],
     "language": "python",
     "metadata": {},
     "outputs": [
      {
       "output_type": "pyout",
       "prompt_number": 70,
       "text": [
        "[<matplotlib.lines.Line2D at 0x109dcd190>,\n",
        " <matplotlib.lines.Line2D at 0x109dcd3d0>]"
       ]
      },
      {
       "output_type": "display_data",
       "png": "[encoded data removed]"
      }
     ],
     "prompt_number": 70
    },
    {
     "cell_type": "markdown",
     "metadata": {},
     "source": [
      "Matplotlib is a very powerful plotting package in Python. Some additional information and nice tutorials can be found in here:\n",
      "http://scipy-lectures.github.io/intro/matplotlib/matplotlib.html\n",
      "\n",
      "In particular, this page shows the multiple types of markers, colors, forms, shapes, etc that you can use to plot data. "
     ]
    }
   ],
   "metadata": {}
  }
 ]
}