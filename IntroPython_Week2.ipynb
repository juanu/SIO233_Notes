{
 "metadata": {
  "name": "IntroPython_Week2"
 },
 "nbformat": 3,
 "nbformat_minor": 0,
 "worksheets": [
  {
   "cells": [
    {
     "cell_type": "heading",
     "level": 2,
     "metadata": {},
     "source": [
      "Python Scripts"
     ]
    },
    {
     "cell_type": "markdown",
     "metadata": {},
     "source": [
      "The idea behind a script is that instead of running a list of commands on the python interpreter, you can save everything in a file that can be run and re-run from the command line. You can run them like this:\n",
      "\n",
      "    python < myscript.py\n",
      "    python myscript.py\n",
      "\n",
      "or if you make the file executable:\n",
      "\n",
      "    chmod u+x myscript.py\n",
      "\n",
      "and add the identifying header line (#!/usr/bin/env python), then just write:\n",
      "\n",
      "    ./myscript.py\n",
      "\n",
      "\n",
      "For example, an script could look like this (the name of the script is printmess2.py)\n",
      "\n",
      "```\n",
      "    #! /usr/bin/env python\u2028",
      "\n",
      "    # simple Python test program 2 (printmess2.py)\u2028",
      "\n",
      "    print \"The pump don\u2019t work \u2019cuz the vandals took the handles\"\n",
      "    print 'She said \"I know what it\\\u2019s like to be dead\"'\n",
      "```\n",
      "\n",
      "Which can be run with:\n",
      "\n",
      "    ./printmess2.py\n",
      "\n",
      "   \n",
      "This is the output of the code:"
     ]
    },
    {
     "cell_type": "code",
     "collapsed": false,
     "input": [
      "#!/usr/bin/env/ python\n",
      "# simple Python test program\n",
      "print \"The pump don\u2019t work \u2019cuz the vandals took the handles\"\n",
      "print 'She said \"I know what it\\'s like to be dead\"'"
     ],
     "language": "python",
     "metadata": {},
     "outputs": [
      {
       "output_type": "stream",
       "stream": "stdout",
       "text": [
        "The pump don\u2019t work \u2019cuz the vandals took the handles\n",
        "She said \"I know what it's like to be dead\"\n"
       ]
      }
     ],
     "prompt_number": 21
    },
    {
     "cell_type": "markdown",
     "metadata": {},
     "source": [
      "Notice the need to escape the ' simbol. (Similar to what we did previously on bash). \n",
      "\n",
      "Before going into the details of decision loops, code blocks, etc, I want to show an example of how with what we know already we can start writing small scripts. This is a very basic example modified from the book Practical Computing for Biologists (my apologies to the non-biology audience...there will other examples in the future :) )"
     ]
    },
    {
     "cell_type": "code",
     "collapsed": false,
     "input": [
      "#!/usr/bin/env python\n",
      "# This program takes a DNA sequence (withouth checking)\n",
      "# and shows its length and the nucleotide composition\n",
      "\n",
      "DNASeq = \"AT G aA C \"\n",
      "DNASeq = DNASeq.upper() # Convert everything to uppercase for .count() function\n",
      "DNASeq = DNASeq.replace(\" \", \"\") # This will remove the spaces in the string\n",
      "\n",
      "print \"Sequence: \", DNASeq\n",
      "\n",
      "SeqLength = float(len(DNASeq)) # Length of the string, in this case the DNA sequence\n",
      "\n",
      "print \"Sequence Length:\", SeqLength\n",
      "\n",
      "NumberA = DNASeq.count(\"A\")  # Count the occurrence of A\n",
      "NumberC = DNASeq.count(\"C\")  # Count the occurrence of C\n",
      "NumberG = DNASeq.count(\"G\")  # Count the occurrence of G\n",
      "NumberT = DNASeq.count(\"T\")  # Count the occurrence of T\n",
      "\n",
      "#Now print the results\n",
      "#We use the % operator (more on this later)\n",
      "\n",
      "print \"A: %.1f\" % (100 * NumberA / SeqLength)\n",
      "print \"C: %.1f\" % (100 * NumberC / SeqLength)\n",
      "print \"G: %.1f\" % (100 * NumberG / SeqLength)\n",
      "print \"T: %.1f\" % (100 * NumberT / SeqLength)\n",
      "\n",
      "\n",
      "\n"
     ],
     "language": "python",
     "metadata": {},
     "outputs": [
      {
       "output_type": "stream",
       "stream": "stdout",
       "text": [
        "Sequence:  ATGAAC\n",
        "Sequence Length: 6.0\n",
        "A: 50.0\n",
        "C: 16.7\n",
        "G: 16.7\n",
        "T: 16.7\n"
       ]
      }
     ],
     "prompt_number": 28
    },
    {
     "cell_type": "markdown",
     "metadata": {},
     "source": [
      "Note that we use the % operator. This inserts the values that are present to the right side of the % symbol. \n",
      "\n",
      "Placeholder indicate if the substitution is:\n",
      "\n",
      "* An integer digit %d\n",
      "* A floating point number %f\n",
      "* A string %s\n",
      "\n",
      "For example, looking at the previous script, if we write:\n",
      "```\n",
      "print \"A occurs in %d bases out of %d.\" % (NumberA, SeqLength)\n",
      "```\n",
      "\n",
      "The output is:\n",
      "```\n",
      "A occurs in 3 bases out of 6\n",
      "```\n",
      "\n",
      "We can also control the number of decimal places that are printer, by using the floating point placeholder modified by the insertion of a decimanl precision specifier, like in the example (%.1f)"
     ]
    },
    {
     "cell_type": "heading",
     "level": 3,
     "metadata": {},
     "source": [
      "Running Scripts on the terminal, using Canopy"
     ]
    },
    {
     "cell_type": "markdown",
     "metadata": {},
     "source": [
      "One thing that we haven't talked in detail is running the scripts on the terminal (bash, remember?). We have been using the interactive and scripting editors of Canopy, but sometimes you just want to run things on the terminal.\n",
      "\n",
      "If you are on a Mac, this is the location of the python interpreter:\n",
      "~/Library/Enthought/Canopy_64bit/User/bin/python\n",
      "\n",
      "So you can write\n",
      "'''\n",
      "~/Library/Enthought/Canopy_64bit/User/bin/python script_name.py \n",
      "'''\n",
      "And that will run the script_name.py python file, using Canopy python.\n",
      "\n",
      "Of course, you can add ~/Library/Enthought/Canopy_64bit/User/bin/python to your bashrc with an alias (like python_canopy), to make things easier...and you all know how to do that by now, right? :)\n",
      "\n",
      "If you are using the Barnyard computers (either local o remotely), Enthough Canopy is the python by default in those machines.\n",
      "\n",
      "On Windows, the location of Python Canopy is:\n",
      "C:\\Users\\<username>\\AppData\\Local\\Enthought\\Canopy\\User\\Scripts\n",
      "\n",
      "(I don't have a way to test this...)\n",
      "\n",
      "All these information is available here:\n",
      "https://support.enthought.com/entries/23646538-Make-Canopy-User-Python-be-your-default-Python-i-e-on-the-PATH-\n",
      "\n",
      "\n"
     ]
    },
    {
     "cell_type": "heading",
     "level": 3,
     "metadata": {},
     "source": [
      "Code Blocks"
     ]
    },
    {
     "cell_type": "markdown",
     "metadata": {},
     "source": [
      "As it was mentioned in the class, the statement syntax in python is different from other languages. In Python, **indentation is used to indicate blocks of code**.\n",
      "For example, this is an example in a C-like language (C, C++, Perl, etc):\n",
      "```\n",
      "if (x>y){\n",
      "    x = 1;\n",
      "    y = 2;\n",
      "}\n",
      "```\n",
      "\n",
      "In here the block to be run by the if statement is delimited by { and } So, you can easily write this too:\n",
      "```\n",
      "if (x>y){x=1;y=2;}\n",
      "```\n",
      "\n",
      "Now the equivalent on Python is this:\n",
      "```\n",
      "if x > y:\n",
      "    x = 1\n",
      "    y =2\n",
      "```\n",
      "\n",
      "All Python compound statements follow the same general pattern:\n",
      "\n",
      "```\n",
      "program statement\n",
      "block 1 top statement:\n",
      "    block 1 statement\n",
      "    block 1 statement\n",
      "    block 2 top statement:\n",
      "        block 2 statement\n",
      "        block 2 statement\n",
      "        block 3 top statement:\n",
      "            block 3 statement\n",
      "            block 3 statement\n",
      "        block 2 statement\n",
      "        block 2 statement\n",
      "    block 1 statement\n",
      "program statement\n",
      "```\n",
      "\n",
      "So remeber, the indentation is not (only) for aesthetic purposes, is a requirement!.\n",
      "\n"
     ]
    },
    {
     "cell_type": "markdown",
     "metadata": {},
     "source": [
      "Two commands that are useful to control the flow of a block are:\n",
      "\n",
      "**break** this breaks out of the code block\n",
      "\n",
      "**pass** this does nothing. This can be used to put a code of block before writing any content in it:\n"
     ]
    },
    {
     "cell_type": "heading",
     "level": 4,
     "metadata": {},
     "source": [
      "The for loop"
     ]
    },
    {
     "cell_type": "markdown",
     "metadata": {},
     "source": [
      "A short example (in script format) of this loop:\n",
      "```\n",
      "#!/usr/bin/env python\u2028",
      "\n",
      "mylist=[42,\u2018spam\u2019,\u2018ocelot\u2019]\u2028",
      "\n",
      "for i in range(0,len(mylist),1): # note absence of Indices list, start and step\n",
      "print mylist[i] print \u2019All done\u2019\n",
      "```\n",
      "\n",
      "Let's see what is going here!"
     ]
    },
    {
     "cell_type": "code",
     "collapsed": false,
     "input": [
      "mylist=[42,'spam','ocelot'] # First we define a list with three elements"
     ],
     "language": "python",
     "metadata": {},
     "outputs": [],
     "prompt_number": 32
    },
    {
     "cell_type": "code",
     "collapsed": false,
     "input": [
      "for i in range (0,len(mylist),1):  # we define the element i, that goes from 0 to the length of my list, increasing in steps of 1\n",
      "    print mylist[i] # We print the i element of mylist\n",
      "print 'All done' # And we are done!"
     ],
     "language": "python",
     "metadata": {},
     "outputs": [
      {
       "output_type": "stream",
       "stream": "stdout",
       "text": [
        "42\n",
        "spam\n",
        "ocelot\n",
        "All done\n"
       ]
      }
     ],
     "prompt_number": 36
    },
    {
     "cell_type": "markdown",
     "metadata": {},
     "source": [
      "Now, in Python if you want to iterate over each element of a list (or dictionary), you don't have to do all that declaration."
     ]
    },
    {
     "cell_type": "code",
     "collapsed": false,
     "input": [
      "for item in mylist: # Each item that is present in mylist\n",
      "    print item\n",
      "print \"All done\""
     ],
     "language": "python",
     "metadata": {},
     "outputs": [
      {
       "output_type": "stream",
       "stream": "stdout",
       "text": [
        "42\n",
        "spam\n",
        "ocelot\n",
        "All done\n"
       ]
      }
     ],
     "prompt_number": 37
    },
    {
     "cell_type": "markdown",
     "metadata": {},
     "source": [
      "And the result is just the same.\n",
      "\n",
      "Here is a more complex example (Again, this is a script. You can copy the following code, paste it on a text file and use the terminal to run it)\n",
      "```\n",
      "#! /usr/bin/env python\u2028",
      "\n",
      "import numpy as np\u2028",
      "\n",
      "deg2rad = np.pi/180. # remember conversion to radians\u2028",
      " \n",
      "for theta in range(90): # short form of range, returns [0,1,2...89]\n",
      "    ctheta = np.cos(theta*deg2rad) # define ctheta as cosine of theta\n",
      "    stheta = np.sin(theta*deg2rad)# define stheta as sine of theta\n",
      "    ttheta = np.tan(theta*deg2rad) # define ttheta as tangent of theta\n",
      "print \u2019%5.1f %8.4f %8.4f %8.4f\u2019 %(theta, ctheta, stheta, ttheta)\n",
      "```\n",
      "\n",
      "Let's look at this more in detail"
     ]
    },
    {
     "cell_type": "code",
     "collapsed": false,
     "input": [
      "import numpy as np # We are going to use the numpy library, so we have to import it"
     ],
     "language": "python",
     "metadata": {},
     "outputs": [],
     "prompt_number": 38
    },
    {
     "cell_type": "code",
     "collapsed": false,
     "input": [
      "deg2rad = np.pi/180 # We define the deg2rad variable"
     ],
     "language": "python",
     "metadata": {},
     "outputs": [],
     "prompt_number": 41
    },
    {
     "cell_type": "code",
     "collapsed": false,
     "input": [
      "for theta in range(90): # theta will be numbers from 0 to 89\n",
      "    ctheta = np.cos(theta*deg2rad) # define ctheta as cosine of theta\n",
      "    stheta = np.sin(theta*deg2rad) # define stheta as sine of theta\n",
      "    ttheta = np.tan(theta*deg2rad) # define ttheta as tangent of theta\n",
      "\n",
      "print '%5.1f %8.4f %8.4f %8.4f' % (theta, ctheta, stheta, ttheta) # This allows for nice printing of the numbers\n",
      "\n",
      "print theta, ctheta, stheta, ttheta  # Not a nice-looking line :)"
     ],
     "language": "python",
     "metadata": {},
     "outputs": [
      {
       "output_type": "stream",
       "stream": "stdout",
       "text": [
        " 89.0   0.0175   0.9998  57.2900\n",
        "89 0.0174524064373"
       ]
      },
      {
       "output_type": "stream",
       "stream": "stdout",
       "text": [
        " 0.999847695156 57.2899616308\n"
       ]
      }
     ],
     "prompt_number": 48
    },
    {
     "cell_type": "heading",
     "level": 4,
     "metadata": {},
     "source": [
      "If an while loops"
     ]
    },
    {
     "cell_type": "markdown",
     "metadata": {},
     "source": [
      "In both of these cases, the code block is executed if the top statement is TRUE. For the _if_ block, the code is executed once, but in a _while_ block, the code keeps executing as long as the statement remains TRUE.\n",
      "\n",
      "A quick example:"
     ]
    },
    {
     "cell_type": "code",
     "collapsed": false,
     "input": [
      "if (2+2)==4:  # Note the use of '==' this means equal to. \n",
      "    print \" I can put two and two together!\""
     ],
     "language": "python",
     "metadata": {},
     "outputs": [
      {
       "output_type": "stream",
       "stream": "stdout",
       "text": [
        " I can put two and two together!\n"
       ]
      }
     ],
     "prompt_number": 50
    },
    {
     "cell_type": "markdown",
     "metadata": {},
     "source": [
      "Now, maybe the if statement is not always TRUE, but you want things to occur. This is where the _elif_ and _else_ statements are useful. Let's look at this script:\n",
      "\n",
      "```\n",
      "#!/usr/bin/env python\u2028",
      "\n",
      "mylist=['jane','doug','denise'] \n",
      "if 'susie' in mylist:\n",
      "    pass # don't do anything \n",
      "if 'susie' not in mylist:\n",
      "    print 'call susie and apologize!'\n",
      "    mylist.append('susie')\u2028",
      "\n",
      "elif 'george' in mylist: # if first statement is false, try this one\n",
      "    print 'susie and george both in list' \n",
      "else: # if both statements are false, do this:\n",
      "    print \"susie in list but george isn't\"\n",
      "```\n",
      "\n",
      "Let's see what is going in here"
     ]
    },
    {
     "cell_type": "code",
     "collapsed": false,
     "input": [
      "mylist = ['jane','doug','denise'] # We define this list with three elements\n",
      "mylist # I just want to show how the list looks"
     ],
     "language": "python",
     "metadata": {},
     "outputs": [
      {
       "output_type": "pyout",
       "prompt_number": 52,
       "text": [
        "['jane', 'doug', 'denise']"
       ]
      }
     ],
     "prompt_number": 52
    },
    {
     "cell_type": "code",
     "collapsed": false,
     "input": [
      "if 'susie' in mylist:  # We check if susie is in the list\n",
      "    pass # If susie is in the list, we pass (nothing happens)\n",
      "\n",
      "if 'susie' not in mylist: # If susie is not in the list\n",
      "    print \"call susie and apologize!\" # We print this line\n",
      "    mylist.append(\"susie\") # We add susie to the list\n",
      "\n",
      "elif \"george\" in mylist:  # If the previous statement was false (if susie not in mylist), try this one. Check if george is in the list\n",
      "    print \"susie and goerge both in the list\"\n",
      "\n",
      "else: # if both the previous two statements were false\n",
      "    print \"susie in list but george isn't\""
     ],
     "language": "python",
     "metadata": {},
     "outputs": [
      {
       "output_type": "stream",
       "stream": "stdout",
       "text": [
        "call susie and apologize!\n"
       ]
      }
     ],
     "prompt_number": 54
    },
    {
     "cell_type": "markdown",
     "metadata": {},
     "source": [
      "But the list now is different!"
     ]
    },
    {
     "cell_type": "code",
     "collapsed": false,
     "input": [
      "mylist"
     ],
     "language": "python",
     "metadata": {},
     "outputs": [
      {
       "output_type": "pyout",
       "prompt_number": 55,
       "text": [
        "['jane', 'doug', 'denise', 'susie']"
       ]
      }
     ],
     "prompt_number": 55
    },
    {
     "cell_type": "markdown",
     "metadata": {},
     "source": [
      "So, if I ran this code again:"
     ]
    },
    {
     "cell_type": "code",
     "collapsed": false,
     "input": [
      "if 'susie' in mylist:  # We check if susie is in the list\n",
      "    pass # If susie is in the list, we pass (nothing happens)\n",
      "\n",
      "if 'susie' not in mylist: # If susie is not in the list\n",
      "    print \"call susie and apologize!\" # We print this line\n",
      "    mylist.append(\"susie\") # We add susie to the list\n",
      "\n",
      "elif \"george\" in mylist:  # If the previous statement was false (if susie not in mylist), try this one. Check if george is in the list\n",
      "    print \"susie and goerge both in the list\"\n",
      "\n",
      "else: # if both the previous two statements were false\n",
      "    print \"susie in list but george isn't\""
     ],
     "language": "python",
     "metadata": {},
     "outputs": [
      {
       "output_type": "stream",
       "stream": "stdout",
       "text": [
        "susie in list but george isn't\n"
       ]
      }
     ],
     "prompt_number": 57
    },
    {
     "cell_type": "markdown",
     "metadata": {},
     "source": [
      "The output is different, because we changed the list on the first time, by adding susie."
     ]
    },
    {
     "cell_type": "markdown",
     "metadata": {},
     "source": [
      "Now a while loop, will run as long as the top statement is true:\n",
      "```\n",
      "#!/usr/bin/env python\u2028",
      "\n",
      "a = 1\n",
      "while a < 10:\n",
      "    print a\n",
      "    a += 1\n",
      "print \"I'm done counting\"\n",
      "```"
     ]
    },
    {
     "cell_type": "code",
     "collapsed": false,
     "input": [
      "a = 1 # We first need to define a. In this case, as 1"
     ],
     "language": "python",
     "metadata": {},
     "outputs": [],
     "prompt_number": 58
    },
    {
     "cell_type": "code",
     "collapsed": false,
     "input": [
      "while a < 10: # As long as a is smaller than 10, the loop will run\n",
      "    print a # Print a\n",
      "    a += 1 # Add 1 to a. This is important!. Several times I forgot to add this, and the loop runs indefinitely.\n",
      "print \"I'm done counting\" # As long as the conditions are met, the loop finishes, and we print this."
     ],
     "language": "python",
     "metadata": {},
     "outputs": [
      {
       "output_type": "stream",
       "stream": "stdout",
       "text": [
        "1\n",
        "2\n",
        "3\n",
        "4\n",
        "5\n",
        "6\n",
        "7\n",
        "8\n",
        "9\n",
        "I'm done counting\n"
       ]
      }
     ],
     "prompt_number": 59
    },
    {
     "cell_type": "heading",
     "level": 3,
     "metadata": {},
     "source": [
      "Reading Data"
     ]
    }
   ],
   "metadata": {}
  }
 ]
}