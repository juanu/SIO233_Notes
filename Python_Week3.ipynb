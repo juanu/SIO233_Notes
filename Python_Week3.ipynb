{
 "metadata": {
  "name": "Python_Week3"
 },
 "nbformat": 3,
 "nbformat_minor": 0,
 "worksheets": [
  {
   "cells": [
    {
     "cell_type": "heading",
     "level": 3,
     "metadata": {},
     "source": [
      "Introduction to Functions"
     ]
    },
    {
     "cell_type": "markdown",
     "metadata": {},
     "source": [
      "If you find yourself copying and pasting the same blocks of code within a program, you may have to re-think the way that you are doing things. There are several problems with reusing code by copying and pasting within a program: it gets confusing; is a lot of work if the code is frequently reused; if you want to change one thing you have to find all the places where you used that code; and it makes the program unncessarily long.\n",
      "\n",
      "For example, imagine the built-in function _float_(). You can write something that could convert a string and convert it to a floating number, and then copy that code everytime you need it. But this approach would make your program long, complex, and very prone to errors.\n",
      "\n",
      "You can build your own functions, and the reuse them in your script (and even in other scripts). The basic structure is this:\n",
      "\n",
      "    #!/usr/bin/env python\n",
      "    def FUNCNAME(in_args):\n",
      "        \"\"\"\n",
      "        DOC STRING\n",
      "        \"\"\"\n",
      "        #CODE THAT DOES SOMETHING\n",
      "        return out_args\n",
      "\n",
      "And to call the function within your script you write:\n",
      "\n",
      "    FUNCNAME(in_args)\n",
      "\n",
      "Let's look at some examples"
     ]
    },
    {
     "cell_type": "code",
     "collapsed": false,
     "input": [
      "def gimmepi(): # Always a pair of parenthesis, when you define the function\n",
      "    \"\"\"\n",
      "    This is the documentation. In this case, this functions returns the value of pi\n",
      "    \"\"\"\n",
      "    return 3.14159265"
     ],
     "language": "python",
     "metadata": {},
     "outputs": [],
     "prompt_number": 3
    },
    {
     "cell_type": "code",
     "collapsed": false,
     "input": [
      "gimmepi()"
     ],
     "language": "python",
     "metadata": {},
     "outputs": [
      {
       "output_type": "pyout",
       "prompt_number": 18,
       "text": [
        "3.14159265"
       ]
      }
     ],
     "prompt_number": 18
    },
    {
     "cell_type": "markdown",
     "metadata": {},
     "source": [
      "Notice that we didn't use any arguments, we just defined a function that returns a value, in this case pi"
     ]
    },
    {
     "cell_type": "code",
     "collapsed": false,
     "input": [
      "def deg2rad(degrees):\n",
      "    \"\"\"\n",
      "    Converts degrees to radians\n",
      "    \"\"\"\n",
      "    return degrees*3.14159265/180."
     ],
     "language": "python",
     "metadata": {},
     "outputs": [],
     "prompt_number": 20
    },
    {
     "cell_type": "code",
     "collapsed": false,
     "input": [
      "print \"42 degrees in readias is:\" , deg2rad(42.) # The comma is to separate"
     ],
     "language": "python",
     "metadata": {},
     "outputs": [
      {
       "output_type": "stream",
       "stream": "stdout",
       "text": [
        "42 degrees in readias is: 0.733038285\n"
       ]
      }
     ],
     "prompt_number": 21
    },
    {
     "cell_type": "markdown",
     "metadata": {},
     "source": [
      "In the previous example, we defined a fixed variable that is needed by the function, in this case degrees. This means that you need to pass a value to the function. If I call the function without an argument:"
     ]
    },
    {
     "cell_type": "code",
     "collapsed": false,
     "input": [
      "deg2rad()"
     ],
     "language": "python",
     "metadata": {},
     "outputs": [
      {
       "ename": "TypeError",
       "evalue": "deg2rad() takes exactly 1 argument (0 given)",
       "output_type": "pyerr",
       "traceback": [
        "\u001b[0;31m---------------------------------------------------------------------------\u001b[0m\n\u001b[0;31mTypeError\u001b[0m                                 Traceback (most recent call last)",
        "\u001b[0;32m<ipython-input-23-ce3761515d1b>\u001b[0m in \u001b[0;36m<module>\u001b[0;34m()\u001b[0m\n\u001b[0;32m----> 1\u001b[0;31m \u001b[0mdeg2rad\u001b[0m\u001b[0;34m(\u001b[0m\u001b[0;34m)\u001b[0m\u001b[0;34m\u001b[0m\u001b[0m\n\u001b[0m",
        "\u001b[0;31mTypeError\u001b[0m: deg2rad() takes exactly 1 argument (0 given)"
       ]
      }
     ],
     "prompt_number": 23
    },
    {
     "cell_type": "markdown",
     "metadata": {},
     "source": [
      "I get an error message!. You can look at the TypeError line, and see what the problem is. In this case, the function _deg2rad()_ requires exactly 1 argument, and 0 were given.\n",
      "\n",
      "You can have more flexible need for variables so you can use the _*args_ line in the parameters (and maybe combined with formal variables if you want):"
     ]
    },
    {
     "cell_type": "code",
     "collapsed": false,
     "input": [
      "def print_args(*args):\n",
      "    #This prints a list of arguments\n",
      "    print \"You sent me these arguments:\"\n",
      "    for arg in args:\n",
      "        print arg"
     ],
     "language": "python",
     "metadata": {},
     "outputs": [],
     "prompt_number": 27
    },
    {
     "cell_type": "code",
     "collapsed": false,
     "input": [
      "print_args(1,4,\"hi there\")"
     ],
     "language": "python",
     "metadata": {},
     "outputs": [
      {
       "output_type": "stream",
       "stream": "stdout",
       "text": [
        "You sent me these arguments:\n",
        "1\n",
        "4\n",
        "hi there\n"
       ]
      }
     ],
     "prompt_number": 28
    },
    {
     "cell_type": "markdown",
     "metadata": {},
     "source": [
      "And if I don't provide an argument, I don't get an error mesage:"
     ]
    },
    {
     "cell_type": "code",
     "collapsed": false,
     "input": [
      "print_args() # The argument is just the print statement of the function."
     ],
     "language": "python",
     "metadata": {},
     "outputs": [
      {
       "output_type": "stream",
       "stream": "stdout",
       "text": [
        "You sent me these arguments:\n"
       ]
      }
     ],
     "prompt_number": 30
    },
    {
     "cell_type": "markdown",
     "metadata": {},
     "source": [
      "Another option is "
     ]
    },
    {
     "cell_type": "code",
     "collapsed": false,
     "input": [
      "def print_kwargs(**kwargs):  # Add some explanation on this http://stackoverflow.com/questions/3394835/args-and-kwargs\n",
      "    for key in kwargs:\n",
      "        print '%s %s'%(key,kwargs[key])"
     ],
     "language": "python",
     "metadata": {},
     "outputs": [],
     "prompt_number": 31
    },
    {
     "cell_type": "code",
     "collapsed": false,
     "input": [
      "print_kwargs(arg1='one', arg2=42, arg3='ocelot') "
     ],
     "language": "python",
     "metadata": {},
     "outputs": [
      {
       "output_type": "stream",
       "stream": "stdout",
       "text": [
        "arg1 one\n",
        "arg2 42\n",
        "arg3 ocelot\n"
       ]
      }
     ],
     "prompt_number": 32
    },
    {
     "cell_type": "markdown",
     "metadata": {},
     "source": [
      "Indentation is important(again)!"
     ]
    },
    {
     "cell_type": "markdown",
     "metadata": {},
     "source": [
      "KML markup language"
     ]
    },
    {
     "cell_type": "markdown",
     "metadata": {},
     "source": [
      "What is interesting (and this is for the people in the genomic), is that KML is a standard langugage file, similar to XML. So, if you learn how to process this stardanar language files, you can easily take this skills and parse xml files (or other markup languages)"
     ]
    },
    {
     "cell_type": "code",
     "collapsed": false,
     "input": [
      "Problem P3, is due on "
     ],
     "language": "python",
     "metadata": {},
     "outputs": []
    }
   ],
   "metadata": {}
  }
 ]
}