{
 "metadata": {
  "name": "Python_Week3"
 },
 "nbformat": 3,
 "nbformat_minor": 0,
 "worksheets": [
  {
   "cells": [
    {
     "cell_type": "heading",
     "level": 3,
     "metadata": {},
     "source": [
      "Introduction to Functions"
     ]
    },
    {
     "cell_type": "markdown",
     "metadata": {},
     "source": [
      "If you find yourself copying and pasting the same blocks of code within a program, you may have to re-think the way that you are doing things. There are several problems with reusing code by copying and pasting within a program: it gets confusing; is a lot of work if the code is frequently reused; if you want to change one thing you have to find all the places where you used that code; and it makes the program unncessarily long.\n",
      "\n",
      "For example, imagine the built-in function _float_(). You can write something that could convert a string and convert it to a floating number, and then copy that code everytime you need it. But this approach would make your program long, complex, and very prone to errors.\n",
      "\n",
      "You can build your own functions, and the reuse them in your script (and even in other scripts). The basic structure is this:\n",
      "\n",
      "    #!/usr/bin/env python\n",
      "    def FUNCNAME(in_args):\n",
      "        \"\"\"\n",
      "        DOC STRING\n",
      "        \"\"\"\n",
      "        #CODE THAT DOES SOMETHING\n",
      "        return out_args\n",
      "\n",
      "And to call the function within your script you write:\n",
      "\n",
      "    FUNCNAME(in_args)\n",
      "\n",
      "Let's look at some examples"
     ]
    },
    {
     "cell_type": "code",
     "collapsed": false,
     "input": [
      "def gimmepi(): # Always a pair of parenthesis, when you define the function\n",
      "    \"\"\"\n",
      "    This is the documentation. In this case, this functions returns the value of pi\n",
      "    \"\"\"\n",
      "    return 3.14159265"
     ],
     "language": "python",
     "metadata": {},
     "outputs": [],
     "prompt_number": 3
    },
    {
     "cell_type": "code",
     "collapsed": false,
     "input": [
      "gimmepi()"
     ],
     "language": "python",
     "metadata": {},
     "outputs": [
      {
       "output_type": "pyout",
       "prompt_number": 18,
       "text": [
        "3.14159265"
       ]
      }
     ],
     "prompt_number": 18
    },
    {
     "cell_type": "markdown",
     "metadata": {},
     "source": [
      "Notice that we didn't use any arguments, we just defined a function that returns a value, in this case pi"
     ]
    },
    {
     "cell_type": "code",
     "collapsed": false,
     "input": [
      "def deg2rad(degrees):\n",
      "    \"\"\"\n",
      "    Converts degrees to radians\n",
      "    \"\"\"\n",
      "    return degrees*3.14159265/180."
     ],
     "language": "python",
     "metadata": {},
     "outputs": [],
     "prompt_number": 20
    },
    {
     "cell_type": "code",
     "collapsed": false,
     "input": [
      "print \"42 degrees in readias is:\" , deg2rad(42.) # The comma is to separate"
     ],
     "language": "python",
     "metadata": {},
     "outputs": [
      {
       "output_type": "stream",
       "stream": "stdout",
       "text": [
        "42 degrees in readias is: 0.733038285\n"
       ]
      }
     ],
     "prompt_number": 21
    },
    {
     "cell_type": "markdown",
     "metadata": {},
     "source": [
      "In the previous example, we defined a fixed variable that is needed by the function, in this case degrees. This means that you need to pass a value to the function. If I call the function without an argument:"
     ]
    },
    {
     "cell_type": "code",
     "collapsed": false,
     "input": [
      "deg2rad()"
     ],
     "language": "python",
     "metadata": {},
     "outputs": [
      {
       "ename": "TypeError",
       "evalue": "deg2rad() takes exactly 1 argument (0 given)",
       "output_type": "pyerr",
       "traceback": [
        "\u001b[0;31m---------------------------------------------------------------------------\u001b[0m\n\u001b[0;31mTypeError\u001b[0m                                 Traceback (most recent call last)",
        "\u001b[0;32m<ipython-input-23-ce3761515d1b>\u001b[0m in \u001b[0;36m<module>\u001b[0;34m()\u001b[0m\n\u001b[0;32m----> 1\u001b[0;31m \u001b[0mdeg2rad\u001b[0m\u001b[0;34m(\u001b[0m\u001b[0;34m)\u001b[0m\u001b[0;34m\u001b[0m\u001b[0m\n\u001b[0m",
        "\u001b[0;31mTypeError\u001b[0m: deg2rad() takes exactly 1 argument (0 given)"
       ]
      }
     ],
     "prompt_number": 23
    },
    {
     "cell_type": "markdown",
     "metadata": {},
     "source": [
      "I get an error message!. You can look at the TypeError line, and see what the problem is. In this case, the function _deg2rad()_ requires exactly 1 argument, and 0 were given.\n",
      "\n",
      "You can have more flexible need for variables so you can use the _*args_ line in the parameters (and maybe combined with formal variables if you want):"
     ]
    },
    {
     "cell_type": "code",
     "collapsed": false,
     "input": [
      "def print_args(*args):\n",
      "    #This prints a list of arguments\n",
      "    print \"You sent me these arguments:\"\n",
      "    for arg in args:\n",
      "        print arg"
     ],
     "language": "python",
     "metadata": {},
     "outputs": [],
     "prompt_number": 36
    },
    {
     "cell_type": "markdown",
     "metadata": {},
     "source": [
      "The key element here is the * symbol. You can use *something and the effect is the same. The use of *args is just a standard convention. Using one * takes the input arguments as a tuple."
     ]
    },
    {
     "cell_type": "code",
     "collapsed": false,
     "input": [
      "print_args(1,4,\"hi there\")"
     ],
     "language": "python",
     "metadata": {},
     "outputs": [
      {
       "output_type": "stream",
       "stream": "stdout",
       "text": [
        "You sent me these arguments:\n",
        "1\n",
        "4\n",
        "hi there\n"
       ]
      }
     ],
     "prompt_number": 37
    },
    {
     "cell_type": "markdown",
     "metadata": {},
     "source": [
      "And if I don't provide an argument, I don't get an error mesage:"
     ]
    },
    {
     "cell_type": "code",
     "collapsed": false,
     "input": [
      "print_args() # The argument is just the print statement of the function."
     ],
     "language": "python",
     "metadata": {},
     "outputs": [
      {
       "output_type": "stream",
       "stream": "stdout",
       "text": [
        "You sent me these arguments:\n"
       ]
      }
     ],
     "prompt_number": 38
    },
    {
     "cell_type": "markdown",
     "metadata": {},
     "source": [
      "Another option on how to provide arguments is using two * symbols, where the input parameters are a dictionary. "
     ]
    },
    {
     "cell_type": "code",
     "collapsed": false,
     "input": [
      "def print_kwargs(**kwargs):\n",
      "    for key in kwargs:\n",
      "        print '%s %s'%(key,kwargs[key])"
     ],
     "language": "python",
     "metadata": {},
     "outputs": [],
     "prompt_number": 40
    },
    {
     "cell_type": "code",
     "collapsed": false,
     "input": [
      "print_kwargs(arg1='one', arg2=42, arg3='ocelot') "
     ],
     "language": "python",
     "metadata": {},
     "outputs": [
      {
       "output_type": "stream",
       "stream": "stdout",
       "text": [
        "arg1 one\n",
        "arg2 42\n",
        "arg3 ocelot\n"
       ]
      }
     ],
     "prompt_number": 41
    },
    {
     "cell_type": "markdown",
     "metadata": {},
     "source": [
      "It is possible to combine fixed and variable parameters in a function, but * must go before **, like this:"
     ]
    },
    {
     "cell_type": "code",
     "collapsed": false,
     "input": [
      "def cheeseshop(kind, *arguments, **keywords):\n",
      "    print \"-- Do you have any\", kind, \"?\"\n",
      "    print \"-- I'm sorry, we're all out of\", kind\n",
      "    for arg in arguments:\n",
      "        print arg\n",
      "    print \"-\" * 40\n",
      "    keys = sorted(keywords.keys())\n",
      "    for kw in keys:\n",
      "        print kw, \":\", keywords[kw]"
     ],
     "language": "python",
     "metadata": {},
     "outputs": [],
     "prompt_number": 42
    },
    {
     "cell_type": "code",
     "collapsed": false,
     "input": [
      "Which then can be called like this:"
     ],
     "language": "python",
     "metadata": {},
     "outputs": []
    },
    {
     "cell_type": "code",
     "collapsed": false,
     "input": [
      "cheeseshop(\"Limburger\", \"It's very runny, sir.\",\n",
      "           \"It's really very, VERY runny, sir.\",\n",
      "           shopkeeper='Michael Palin',\n",
      "           client=\"John Cleese\",\n",
      "           sketch=\"Cheese Shop Sketch\")"
     ],
     "language": "python",
     "metadata": {},
     "outputs": [
      {
       "output_type": "stream",
       "stream": "stdout",
       "text": [
        "-- Do you have any Limburger ?\n",
        "-- I'm sorry, we're all out of Limburger\n",
        "It's very runny, sir.\n",
        "It's really very, VERY runny, sir.\n",
        "----------------------------------------\n",
        "client : John Cleese\n",
        "shopkeeper : Michael Palin\n",
        "sketch : Cheese Shop Sketch\n"
       ]
      }
     ],
     "prompt_number": 43
    },
    {
     "cell_type": "markdown",
     "metadata": {},
     "source": [
      "More details and examples on this can be found here: http://docs.python.org/2/tutorial/controlflow.html#more-on-defining-functions"
     ]
    },
    {
     "cell_type": "heading",
     "level": 3,
     "metadata": {},
     "source": [
      "Scope of variables"
     ]
    },
    {
     "cell_type": "markdown",
     "metadata": {},
     "source": [
      "When a name appears in your code, it eithed defines the meaning of the name or refers to a definiton elsewhere. The *scope* of a definition is the part of the program over which the definition holds. For example, in Python\n",
      "\n",
      "    x = 2 + 2\n",
      "\n",
      "we just defined x as 4.\n",
      "\n",
      "Variable names inside a function stay in the function (are note \"visible\" outside that function), unless you declare them (explictly) to be global. For example\n",
      "\n",
      "    def myfunc():\n",
      "        global v\n",
      "        v = 123\n",
      "\n",
      "Then:\n",
      "\n",
      "    def main():\n",
      "        myfunc()\n",
      "        print v\n",
      "\n",
      "\n",
      "This is useful if you want to have variables that are available outside the function."
     ]
    },
    {
     "cell_type": "code",
     "collapsed": false,
     "input": [
      "def myfunc():\n",
      "    global v\n",
      "    v = 123"
     ],
     "language": "python",
     "metadata": {},
     "outputs": [],
     "prompt_number": 44
    },
    {
     "cell_type": "code",
     "collapsed": false,
     "input": [
      "def main():\n",
      "    myfunc()\n",
      "    print v"
     ],
     "language": "python",
     "metadata": {},
     "outputs": [],
     "prompt_number": 45
    },
    {
     "cell_type": "code",
     "collapsed": false,
     "input": [
      "main()"
     ],
     "language": "python",
     "metadata": {},
     "outputs": [
      {
       "output_type": "stream",
       "stream": "stdout",
       "text": [
        "123\n"
       ]
      }
     ],
     "prompt_number": 46
    },
    {
     "cell_type": "heading",
     "level": 3,
     "metadata": {},
     "source": [
      "Classes"
     ]
    },
    {
     "cell_type": "markdown",
     "metadata": {},
     "source": [
      "So far, we have been using Python's (and Numpy/Scipy/Matplotlib) objects, such as numbers, strings, list, tuples, dictionaries and functions available in Numpy and other modules. But you can also create your own functions (as we saw before) and your own methods.\n",
      "\n",
      "This is where the magic of object-oriented programming starts. Something to keep in mind, extracted from the 4th edition of the Learning Python book:\n",
      "\n",
      "__\"One note up front: in Python, OOP (object oriented programing) is entirely optional, and you don't need to use classes just to get started. In fact, you can get plenty of work done with simpler constructs such as functions, or even simple top-level script code. Because using classes well requires some-up front planning, they tend to be of more interest to people who work in _strategic_ mode (doing long-term product development) than to people who work in _tactical_mode (where time is in very short supply)\"__\n",
      "\n",
      "The idea is that at beginning you may not use Classes at al, but on the long term they are very useful and important elements of the language.\n",
      "\n",
      "In the Python object model there are two distinct objects types:\n",
      "_Classes_: Serve as instance factories. Their attributes provide behavior--data and functions-- that is inherited by all the instances generated from them (e.g, a function to compute an employee's salaray from pay and hours)\n",
      "\n",
      "_Instances_: Represent the concrete items in a program's domain. Their attributes record data that varies per specific object (e.g., and employee's Social Security number)\n",
      "\n",
      "An instance inherits attributes from its class, and a class inherits attributes from all classes above it in the tree.\n",
      "\n",
      "Python's class definition statement defines a new class (type), just the way a definition statement defines a new function. The keyword that introduces the statement is _class_. Like function definition statements, class definition statements are one-clause compound statements containing other statements, usually definitions, but any statement is allowed. Each _def_ statement inside a class defines a method for the instances of that class.\n",
      "\n",
      "New instances are created by calling the name of the class as a function, just as with built-in types. Each instance stores information in named fields. Together, fields and methods are called _attributes_. They are accessed with the usual dot notation, such as:\n",
      "\n",
      "    obj.name()\n",
      "\n",
      "would call the name method defined by obj's type, and this expression:\n",
      "\n",
      "    obj.species\n",
      "\n",
      "would access the species attribute of obj.\n",
      "\n",
      "Sooo...to summarize. A class definition begins with the keyword _class_ and a name, followed by a colon and one or more statements intended relative to the first line:\n",
      "\n",
      "    class name:\n",
      "        \n",
      "        def method1(args...):\n",
      "        \n",
      "        def method2(args...):\n",
      "\n",
      "\n"
     ]
    },
    {
     "cell_type": "markdown",
     "metadata": {},
     "source": [
      "In the notes that I created (this file), I'm creating the functions in here and showing it how they work. You can do this (using the interactive interpreter in Canopy), but on the long term (and also to follow on the class notes), you may want to save your classes in a file. In that way you can import your classes, just like you import libraries such as Scipy or Numpy.\n",
      "\n",
      "So, let's look at a very basic class:"
     ]
    },
    {
     "cell_type": "code",
     "collapsed": false,
     "input": [
      "class Circle:\n",
      "    \"\"\"\n",
      "    This is a simple example of class\n",
      "    \"\"\"\n",
      "    pi = 3.141592\n",
      "    \n",
      "    def __init__(self,r):\n",
      "        self.r=r # In this case r is an attribute of self. Which will be the object created by using the Class\n",
      "    \n",
      "    def area(self):\n",
      "        return 0.5*pi*self.r**2\n",
      "    \n",
      "    def circumference(self):\n",
      "        return 2.*pi*self.r\n",
      "        "
     ],
     "language": "python",
     "metadata": {},
     "outputs": [],
     "prompt_number": 48
    },
    {
     "cell_type": "markdown",
     "metadata": {},
     "source": [
      "Let's dissect this piece of code!"
     ]
    },
    {
     "cell_type": "markdown",
     "metadata": {},
     "source": [
      "\n",
      "    class Circle:\n",
      "\n",
      "This is the first line of the code, and basically starts the block of code for the class, in this case called Circle\n",
      "\n",
      "    pi = 3.141592\n",
      "\n",
      "Here we defined a value for pi. This will be useful in the rest of the functions in the class.\n",
      "\n",
      "    def __init__(self,r):\n",
      "        self.r = r\n",
      "\n",
      "Here we define the first function. This is a very special one, because we are using the method called _init_. Method names like \\__init__ that begin with two underscores are called _special methods_. They play predefined roles in Python's implementation. You are not allowed to give other methods names that begin and end with two underscores.\n",
      "\n",
      "\\__init__ is critical to the way classes work. When a class is called to create a new instance, the arguments included in the call are passed automatically to the \\__init__ method defined in the class. This method can initialize the instance's feilds and ensure that the new instance is ready to use. This is how fields are normally assigned their initial values, not by using dot notation with the field name outside of the class.\n",
      "\n",
      "The \\__init__ method plays a fundamental role in the interface defined by the class. Although other methods could add other fields, the norm is to assign all fields in a class\u2019s __init__ method, even if the value is only None. To help anyone reading the class, including its author, the __init__ method should go first in the body of the class\u2019s definition.\n",
      "\n",
      "In this case, the first argument has to be a reference to the class instance itself, or _self_, followed by any variables you want to pass into the method. So the _init_ method initializes the instance attributes of an object, in this case, defining the attribute *r* which gets passed in when the class is first called. \n",
      "\n",
      "    def area(self):\n",
      "        return 0.5*pi*self.r**2\n",
      "    \n",
      "    def circumference(self):\n",
      "        return 2.*pi*self.r\n",
      "\n",
      "These are functions that have _self_ as argument. In this case no other parameters are passed in because only r is needed. Calling these methods (remeber the dot notation) returns the current values of these methods.\n",
      "\n"
     ]
    },
    {
     "cell_type": "code",
     "collapsed": false,
     "input": [
      "r = 4.0 # We define r, as 4.0"
     ],
     "language": "python",
     "metadata": {},
     "outputs": [],
     "prompt_number": 31
    },
    {
     "cell_type": "code",
     "collapsed": false,
     "input": [
      "C = Circle(r)  # C is an object of the Class circle, and we pass the argument r (equal to 4.0) in this case"
     ],
     "language": "python",
     "metadata": {},
     "outputs": []
    },
    {
     "cell_type": "code",
     "collapsed": false,
     "input": [
      "C.pi # We can retrieve the value of pi from the class. pi is a variable within the Circle class"
     ],
     "language": "python",
     "metadata": {},
     "outputs": [
      {
       "output_type": "pyout",
       "prompt_number": 59,
       "text": [
        "3.141592"
       ]
      }
     ],
     "prompt_number": 59
    },
    {
     "cell_type": "code",
     "collapsed": false,
     "input": [
      "C.r # Same thing with the value of r. We can retrive tha from the class"
     ],
     "language": "python",
     "metadata": {},
     "outputs": [
      {
       "output_type": "pyout",
       "prompt_number": 52,
       "text": [
        "4.0"
       ]
      }
     ],
     "prompt_number": 52
    },
    {
     "cell_type": "code",
     "collapsed": false,
     "input": [
      "C.area() # Here for the object C, we call the area method, which is defined in the Circle class"
     ],
     "language": "python",
     "metadata": {},
     "outputs": [
      {
       "output_type": "pyout",
       "prompt_number": 55,
       "text": [
        "25.132741228718345"
       ]
      }
     ],
     "prompt_number": 55
    },
    {
     "cell_type": "code",
     "collapsed": false,
     "input": [
      "C.circumference()"
     ],
     "language": "python",
     "metadata": {},
     "outputs": [
      {
       "output_type": "pyout",
       "prompt_number": 56,
       "text": [
        "25.132741228718345"
       ]
      }
     ],
     "prompt_number": 56
    },
    {
     "cell_type": "markdown",
     "metadata": {},
     "source": [
      "We can create another element of the same class:"
     ]
    },
    {
     "cell_type": "code",
     "collapsed": false,
     "input": [
      "D = Circle(10.0) # In this case I didn't define r, I just passed a value directly into the class"
     ],
     "language": "python",
     "metadata": {},
     "outputs": [],
     "prompt_number": 58
    },
    {
     "cell_type": "code",
     "collapsed": false,
     "input": [
      "D.r"
     ],
     "language": "python",
     "metadata": {},
     "outputs": [
      {
       "output_type": "pyout",
       "prompt_number": 60,
       "text": [
        "10.0"
       ]
      }
     ],
     "prompt_number": 60
    },
    {
     "cell_type": "code",
     "collapsed": false,
     "input": [
      "D.area()"
     ],
     "language": "python",
     "metadata": {},
     "outputs": [
      {
       "output_type": "pyout",
       "prompt_number": 61,
       "text": [
        "157.07963267948966"
       ]
      }
     ],
     "prompt_number": 61
    },
    {
     "cell_type": "code",
     "collapsed": false,
     "input": [
      "D.circumference()"
     ],
     "language": "python",
     "metadata": {},
     "outputs": [
      {
       "output_type": "pyout",
       "prompt_number": 62,
       "text": [
        "62.83185307179586"
       ]
      }
     ],
     "prompt_number": 62
    },
    {
     "cell_type": "markdown",
     "metadata": {},
     "source": [
      "Without re-writing new code, I created two new objects that share the same methods (area, circumference). "
     ]
    },
    {
     "cell_type": "markdown",
     "metadata": {},
     "source": [
      "I want to share another example, in this case related to DNA sequence analysis (sorry!). We can define a class called Sequence, like this:"
     ]
    },
    {
     "cell_type": "code",
     "collapsed": false,
     "input": [
      "class Sequence:\n",
      "    TranscriptionTable = {\"A\":\"U\", \"T\":\"A\", \"C\":\"G\", \"G\":\"C\"}\n",
      "    \n",
      "    def __init__(self, seqstring):\n",
      "        self.seqstring=seqstring.upper()\n",
      "    \n",
      "    def transcription(self):\n",
      "        tt = \"\"\n",
      "        \n",
      "        for x in self.seqstring:\n",
      "            if x in 'ATCG':\n",
      "                tt += self.TranscriptionTable[x]\n",
      "        \n",
      "        return tt"
     ],
     "language": "python",
     "metadata": {},
     "outputs": [],
     "prompt_number": 64
    },
    {
     "cell_type": "markdown",
     "metadata": {},
     "source": [
      "Let's look at this code in detail"
     ]
    },
    {
     "cell_type": "markdown",
     "metadata": {},
     "source": [
      "       \n",
      "    class Sequence:\n",
      "        TranscriptionTable = {\"A\":\"U\", \"T\":\"A\", \"C\":\"G\", \"G\":\"C\"}\n",
      "\n",
      "Same as before, we defined a new class, called Sequence. And then we defined an element (in this case a dictionary), that will be part of all the class. In this case, we created a dictionary called TranscriptionTable.\n",
      "\n",
      "    def __init__(self, seqstring):\n",
      "        self.seqstring=seqstring.upper()\n",
      "\n",
      "Here we initialize our class, and also we call the method upper (this is built-in string method) that will convert whatever we pass into the class to uppercase characters.\n",
      "\n",
      "    def transcription(self):\n",
      "        tt = \"\"\n",
      "        \n",
      "        for x in self.seqstring:\n",
      "            if x in 'ATCG':\n",
      "                tt += self.TranscriptionTable[x]\n",
      "        \n",
      "        return tt\n",
      "\n",
      "This is the important method of our class. Here we are going to take the sequence and transcribing into RNA (for the non-biologist, we are changing the letters on the sequence). \n",
      "\n",
      "First we create an empty string called _tt_, which will hold our transcripted sequence. Then we iterate over each character of the sequence, and if x (the character) is present in ACTG (meaning that is any of those letters), we add one letter to the _tt_ string, which will be the value of the dictionary for the key x. For example if we have the letter T, the value of this key on the dictionary is A. And finally we return the string _tt_.\n",
      "\n",
      "Let's see how this works"
     ]
    },
    {
     "cell_type": "code",
     "collapsed": false,
     "input": [
      "GoodVirus = Sequence(\"atggagagccttgttcttggtgtcaa\") # GoodVirus is an object of the class Sequence, therefore it will inherate all of its methods"
     ],
     "language": "python",
     "metadata": {},
     "outputs": [],
     "prompt_number": 73
    },
    {
     "cell_type": "code",
     "collapsed": false,
     "input": [
      "GoodVirus.seqstring # Notice that this is the same sequence as before, but in uppercase. This is a result of the __init__ statement in our Sequence class"
     ],
     "language": "python",
     "metadata": {},
     "outputs": [
      {
       "output_type": "pyout",
       "prompt_number": 74,
       "text": [
        "'ATGGAGAGCCTTGTTCTTGGTGTCAA'"
       ]
      }
     ],
     "prompt_number": 74
    },
    {
     "cell_type": "markdown",
     "metadata": {},
     "source": [
      "We can define another sequence"
     ]
    },
    {
     "cell_type": "code",
     "collapsed": false,
     "input": [
      "BadVirus = Sequence(\"aatgctactactattagtagaattgatgcca\") "
     ],
     "language": "python",
     "metadata": {},
     "outputs": [],
     "prompt_number": 75
    },
    {
     "cell_type": "code",
     "collapsed": false,
     "input": [
      "BadVirus.seqstring"
     ],
     "language": "python",
     "metadata": {},
     "outputs": [
      {
       "output_type": "pyout",
       "prompt_number": 76,
       "text": [
        "'AATGCTACTACTATTAGTAGAATTGATGCCA'"
       ]
      }
     ],
     "prompt_number": 76
    },
    {
     "cell_type": "code",
     "collapsed": false,
     "input": [
      "GoodVirus.transcription() # This will call the method transcription for the GoodVirus object"
     ],
     "language": "python",
     "metadata": {},
     "outputs": [
      {
       "output_type": "pyout",
       "prompt_number": 78,
       "text": [
        "'UACCUCUCGGAACAAGAACCACAGUU'"
       ]
      }
     ],
     "prompt_number": 78
    },
    {
     "cell_type": "code",
     "collapsed": false,
     "input": [
      "BadVirus.transcription()"
     ],
     "language": "python",
     "metadata": {},
     "outputs": [
      {
       "output_type": "pyout",
       "prompt_number": 79,
       "text": [
        "'UUACGAUGAUGAUAAUCAUCUUAACUACGGU'"
       ]
      }
     ],
     "prompt_number": 79
    },
    {
     "cell_type": "markdown",
     "metadata": {},
     "source": [
      "Methods can also have parameters. Let's do an example where we extend the Sequence class. In this case we calculate how many restriction sites has a sequence for a given enzyme....this are sequence combinations that are recognized by particular proteins that cut the sequence in fragments."
     ]
    },
    {
     "cell_type": "code",
     "collapsed": false,
     "input": [
      "class Sequence:  # Same as before, but we add more things\n",
      "    TranscriptionTable = {\"A\":\"U\", \"T\":\"A\", \"C\":\"G\", \"G\":\"C\"}\n",
      "    \n",
      "    #Dictionary with the name of the enzyme and the recognition sequence\n",
      "    EnzDict = {\"EcoRI\": \"GAATTC\", \"EcoRV\":\"GATATC\"}\n",
      "    \n",
      "    def __init__(self, seqstring):\n",
      "        self.seqstring=seqstring.upper()\n",
      "    \n",
      "    def transcription(self):\n",
      "        tt = \"\"\n",
      "        \n",
      "        for x in self.seqstring:\n",
      "            if x in 'ATCG':\n",
      "                tt += self.TranscriptionTable[x]\n",
      "        \n",
      "        return tt\n",
      "\n",
      "    #Here I defined the new method, called restriction. This takes a parameter, called enz\n",
      "    #And based on this will show how many sites are recognized by this enzymes (how many places are\n",
      "    #found in the sequence that match the recognition sequence)\n",
      "    \n",
      "    #Don't worry about the try and except statement in here, this will be explained in more detail later,\n",
      "    #but those are statements that allow you to bypass error messages. For example in this case we can look for a string\n",
      "    #in our sequence, but it could happen that is not there. If the string that we are looking is not there, that will\n",
      "    #give an error message in Python, so we want to skip that error message and return the value 0 instead\n",
      "    #because we didn't find any matches\n",
      "    \n",
      "    #The important thing is that we are using self (the original sequence given to the class), and a parameter\n",
      "    #in this case called enz\n",
      "    #Then the function will count how many times the string is in the sequence. For example if enz is EcoRI,\n",
      "    #the function will look for how many times the word GAATTC is on our sequence\n",
      "    \n",
      "    def restriction(self,enz):\n",
      "        try:\n",
      "            return self.seqstring.count(Sequence.EnzDict[enz])\n",
      "        except:\n",
      "            return 0"
     ],
     "language": "python",
     "metadata": {},
     "outputs": [],
     "prompt_number": 80
    },
    {
     "cell_type": "code",
     "collapsed": false,
     "input": [
      "other_virus = Sequence(\"atgatatcggagaggatatcggtgtcaa\")"
     ],
     "language": "python",
     "metadata": {},
     "outputs": [],
     "prompt_number": 81
    },
    {
     "cell_type": "code",
     "collapsed": false,
     "input": [
      "other_virus.seqstring"
     ],
     "language": "python",
     "metadata": {},
     "outputs": [
      {
       "output_type": "pyout",
       "prompt_number": 82,
       "text": [
        "'ATGATATCGGAGAGGATATCGGTGTCAA'"
       ]
      }
     ],
     "prompt_number": 82
    },
    {
     "cell_type": "code",
     "collapsed": false,
     "input": [
      "other_virus.transcription()"
     ],
     "language": "python",
     "metadata": {},
     "outputs": [
      {
       "output_type": "pyout",
       "prompt_number": 83,
       "text": [
        "'UACUAUAGCCUCUCCUAUAGCCACAGUU'"
       ]
      }
     ],
     "prompt_number": 83
    },
    {
     "cell_type": "code",
     "collapsed": false,
     "input": [
      "other_virus.restriction(\"EcoRV\")"
     ],
     "language": "python",
     "metadata": {},
     "outputs": [
      {
       "output_type": "pyout",
       "prompt_number": 84,
       "text": [
        "2"
       ]
      }
     ],
     "prompt_number": 84
    },
    {
     "cell_type": "code",
     "collapsed": false,
     "input": [
      "other_virus.restriction(\"EcoRI\")"
     ],
     "language": "python",
     "metadata": {},
     "outputs": [
      {
       "output_type": "pyout",
       "prompt_number": 85,
       "text": [
        "0"
       ]
      }
     ],
     "prompt_number": 85
    }
   ],
   "metadata": {}
  }
 ]
}