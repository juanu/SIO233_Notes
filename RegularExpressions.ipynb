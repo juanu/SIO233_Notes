{
 "metadata": {
  "name": ""
 },
 "nbformat": 3,
 "nbformat_minor": 0,
 "worksheets": [
  {
   "cells": [
    {
     "cell_type": "markdown",
     "metadata": {},
     "source": [
      "In Python, regular expressions are a great tool for matching text patterns. The typical expression is something like this:\n",
      "\n",
      "    match = re.search(pat,str)\n",
      "    \n",
      "Notice that we are using the module _re_ which is not laoded by default in Python, so we have to import it first.\n",
      "\n",
      "\n",
      "    "
     ]
    },
    {
     "cell_type": "code",
     "collapsed": false,
     "input": [
      "import re"
     ],
     "language": "python",
     "metadata": {},
     "outputs": [],
     "prompt_number": 2
    },
    {
     "cell_type": "markdown",
     "metadata": {},
     "source": [
      "Before we can search for a patter, first we must compile it (build a \"set of words\")"
     ]
    },
    {
     "cell_type": "code",
     "collapsed": false,
     "input": [
      "expression = '[AP]{1,2}D'"
     ],
     "language": "python",
     "metadata": {},
     "outputs": [],
     "prompt_number": 3
    },
    {
     "cell_type": "code",
     "collapsed": false,
     "input": [
      "pattern = re.compile(expression)"
     ],
     "language": "python",
     "metadata": {},
     "outputs": [],
     "prompt_number": 4
    },
    {
     "cell_type": "markdown",
     "metadata": {},
     "source": [
      "Here pattern is a pattern object. Now we can use search to look for this pattern"
     ]
    },
    {
     "cell_type": "code",
     "collapsed": false,
     "input": [
      "seq = \"RPAD\"\n",
      "match = pattern.search(seq)"
     ],
     "language": "python",
     "metadata": {},
     "outputs": [],
     "prompt_number": 5
    },
    {
     "cell_type": "code",
     "collapsed": false,
     "input": [
      "print match # match is an object"
     ],
     "language": "python",
     "metadata": {},
     "outputs": [
      {
       "output_type": "stream",
       "stream": "stdout",
       "text": [
        "<_sre.SRE_Match object at 0x10454b8b8>\n"
       ]
      }
     ],
     "prompt_number": 6
    },
    {
     "cell_type": "code",
     "collapsed": false,
     "input": [
      "print match.start() #Start coordinates of the match in the query string"
     ],
     "language": "python",
     "metadata": {},
     "outputs": [
      {
       "output_type": "stream",
       "stream": "stdout",
       "text": [
        "1\n"
       ]
      }
     ],
     "prompt_number": 9
    },
    {
     "cell_type": "code",
     "collapsed": false,
     "input": [
      "print match.end() #End coordinates of the match in the query string"
     ],
     "language": "python",
     "metadata": {},
     "outputs": [
      {
       "output_type": "stream",
       "stream": "stdout",
       "text": [
        "4\n"
       ]
      }
     ],
     "prompt_number": 10
    },
    {
     "cell_type": "code",
     "collapsed": false,
     "input": [
      "print seq[match.start():match.end()]"
     ],
     "language": "python",
     "metadata": {},
     "outputs": [
      {
       "output_type": "stream",
       "stream": "stdout",
       "text": [
        "PAD\n"
       ]
      }
     ],
     "prompt_number": 11
    },
    {
     "cell_type": "code",
     "collapsed": false,
     "input": [
      "print match.group(0)"
     ],
     "language": "python",
     "metadata": {},
     "outputs": [
      {
       "output_type": "stream",
       "stream": "stdout",
       "text": [
        "PAD\n"
       ]
      }
     ],
     "prompt_number": 13
    },
    {
     "cell_type": "markdown",
     "metadata": {},
     "source": [
      "Another example"
     ]
    },
    {
     "cell_type": "code",
     "collapsed": false,
     "input": [
      "str = 'an example word:cat!!'\n",
      "match = re.search(r'word:\\w\\w\\w', str)\n",
      "# If-statement after search() tests if it succeeded\n",
      "if match:                      \n",
      "    print 'found', match.group() ## 'found word:cat'\n",
      "else:\n",
      "    print 'did not find'"
     ],
     "language": "python",
     "metadata": {},
     "outputs": [
      {
       "output_type": "stream",
       "stream": "stdout",
       "text": [
        "found word:cat\n"
       ]
      }
     ],
     "prompt_number": 16
    },
    {
     "cell_type": "markdown",
     "metadata": {},
     "source": [
      "Notice the use r' on the string. Because backslashes have special significance within regular expression, but also on Python strings, this could generate a problem. To help with this Python provides a _raw_ string syntax. You can preceed a string with the character **r** or **R**, which tells Python to ignore the usual special intepretation of backslashes within the string."
     ]
    },
    {
     "cell_type": "code",
     "collapsed": false,
     "input": [
      "'\\n'"
     ],
     "language": "python",
     "metadata": {},
     "outputs": [
      {
       "metadata": {},
       "output_type": "pyout",
       "prompt_number": 17,
       "text": [
        "'\\n'"
       ]
      }
     ],
     "prompt_number": 17
    },
    {
     "cell_type": "code",
     "collapsed": false,
     "input": [
      "len('\\n')"
     ],
     "language": "python",
     "metadata": {},
     "outputs": [
      {
       "metadata": {},
       "output_type": "pyout",
       "prompt_number": 18,
       "text": [
        "1"
       ]
      }
     ],
     "prompt_number": 18
    },
    {
     "cell_type": "code",
     "collapsed": false,
     "input": [
      "r'\\n'"
     ],
     "language": "python",
     "metadata": {},
     "outputs": [
      {
       "metadata": {},
       "output_type": "pyout",
       "prompt_number": 20,
       "text": [
        "'\\\\n'"
       ]
      }
     ],
     "prompt_number": 20
    },
    {
     "cell_type": "code",
     "collapsed": false,
     "input": [
      "len(r'\\n')"
     ],
     "language": "python",
     "metadata": {},
     "outputs": [
      {
       "metadata": {},
       "output_type": "pyout",
       "prompt_number": 21,
       "text": [
        "2"
       ]
      }
     ],
     "prompt_number": 21
    },
    {
     "cell_type": "markdown",
     "metadata": {},
     "source": [
      " For example: \n",
      "  \n",
      "      ## Search for pattern 'iii' in string 'piiig'.\n",
      "      ## All of the pattern must match, but it may appear anywhere.\n",
      "      ## On success, match.group() is matched text.\n",
      "      match = re.search(r'iii', 'piiig') =>  found, match.group() == \"iii\"\n",
      "      match = re.search(r'igs', 'piiig') =>  not found, match == None\n",
      "\n",
      "      ## . = any char but \\n\n",
      "      match = re.search(r'..g', 'piiig') =>  found, match.group() == \"iig\"\n",
      "\n",
      "      ## \\d = digit char, \\w = word char\n",
      "      match = re.search(r'\\d\\d\\d', 'p123g') =>  found, match.group() == \"123\"\n",
      "      match = re.search(r'\\w\\w\\w', '@@abcd!!') =>  found, match.group() == \"abc\""
     ]
    },
    {
     "cell_type": "code",
     "collapsed": false,
     "input": [
      "match = re.search(r'iii', 'piiig')\n",
      "print match.group()"
     ],
     "language": "python",
     "metadata": {},
     "outputs": [
      {
       "output_type": "stream",
       "stream": "stdout",
       "text": [
        "iii\n"
       ]
      }
     ],
     "prompt_number": 24
    },
    {
     "cell_type": "code",
     "collapsed": false,
     "input": [
      "match = re.search(r'igs', 'piiig')\n",
      "print match.group()"
     ],
     "language": "python",
     "metadata": {},
     "outputs": [
      {
       "ename": "AttributeError",
       "evalue": "'NoneType' object has no attribute 'group'",
       "output_type": "pyerr",
       "traceback": [
        "\u001b[0;31m---------------------------------------------------------------------------\u001b[0m\n\u001b[0;31mAttributeError\u001b[0m                            Traceback (most recent call last)",
        "\u001b[0;32m<ipython-input-26-e92ab86cb573>\u001b[0m in \u001b[0;36m<module>\u001b[0;34m()\u001b[0m\n\u001b[1;32m      1\u001b[0m \u001b[0mmatch\u001b[0m \u001b[0;34m=\u001b[0m \u001b[0mre\u001b[0m\u001b[0;34m.\u001b[0m\u001b[0msearch\u001b[0m\u001b[0;34m(\u001b[0m\u001b[0;34mr'igs'\u001b[0m\u001b[0;34m,\u001b[0m \u001b[0;34m'piiig'\u001b[0m\u001b[0;34m)\u001b[0m\u001b[0;34m\u001b[0m\u001b[0m\n\u001b[0;32m----> 2\u001b[0;31m \u001b[0;32mprint\u001b[0m \u001b[0mmatch\u001b[0m\u001b[0;34m.\u001b[0m\u001b[0mgroup\u001b[0m\u001b[0;34m(\u001b[0m\u001b[0;34m)\u001b[0m\u001b[0;34m\u001b[0m\u001b[0m\n\u001b[0m",
        "\u001b[0;31mAttributeError\u001b[0m: 'NoneType' object has no attribute 'group'"
       ]
      }
     ],
     "prompt_number": 26
    },
    {
     "cell_type": "markdown",
     "metadata": {},
     "source": [
      "More examples"
     ]
    },
    {
     "cell_type": "code",
     "collapsed": false,
     "input": [
      "## i+ = one or more i's, as many as possible\n",
      "match = re.search(r'pi+', 'piiig')\n",
      "print match.group()\n"
     ],
     "language": "python",
     "metadata": {},
     "outputs": [
      {
       "output_type": "stream",
       "stream": "stdout",
       "text": [
        "piii\n"
       ]
      }
     ],
     "prompt_number": 28
    },
    {
     "cell_type": "code",
     "collapsed": false,
     "input": [
      "  ## Finds the first/leftmost solution, and within it drives the +\n",
      "  ## as far as possible (aka 'leftmost and largest').\n",
      "  ## In this example, note that it does not get to the second set of i's\n",
      "match = re.search(r'i+', 'piigiiii')\n",
      "print match.group()"
     ],
     "language": "python",
     "metadata": {},
     "outputs": [
      {
       "output_type": "stream",
       "stream": "stdout",
       "text": [
        "ii\n"
       ]
      }
     ],
     "prompt_number": 29
    },
    {
     "cell_type": "code",
     "collapsed": false,
     "input": [
      "# \\s* = zero or more whitespace chars\n",
      "## Here look for 3 digits, possibly separated by whitespace.\n",
      "match = re.search(r'\\d\\s*\\d\\s*\\d', 'xx1 2   3xx')\n",
      "print match.group()"
     ],
     "language": "python",
     "metadata": {},
     "outputs": [
      {
       "output_type": "stream",
       "stream": "stdout",
       "text": [
        "1 2   3\n"
       ]
      }
     ],
     "prompt_number": 31
    },
    {
     "cell_type": "markdown",
     "metadata": {},
     "source": [
      "Emails example\n"
     ]
    },
    {
     "cell_type": "code",
     "collapsed": false,
     "input": [
      "str = 'purple alice-b@google.com monkey dishwasher'\n",
      "match = re.search(r'\\w+@\\w+', str)\n",
      "if match:\n",
      "    print match.group() "
     ],
     "language": "python",
     "metadata": {},
     "outputs": [
      {
       "output_type": "stream",
       "stream": "stdout",
       "text": [
        "b@google\n"
       ]
      }
     ],
     "prompt_number": 35
    },
    {
     "cell_type": "code",
     "collapsed": false,
     "input": [
      "match = re.search(r'[\\w.-]+@[\\w.-]+', str)\n",
      "if match:\n",
      "    print match.group()"
     ],
     "language": "python",
     "metadata": {},
     "outputs": [
      {
       "output_type": "stream",
       "stream": "stdout",
       "text": [
        "alice-b@google.com\n"
       ]
      }
     ],
     "prompt_number": 36
    },
    {
     "cell_type": "markdown",
     "metadata": {},
     "source": [
      "Group extraction"
     ]
    },
    {
     "cell_type": "code",
     "collapsed": false,
     "input": [
      "str = 'purple alice-b@google.com monkey dishwasher'\n",
      "match = re.search('([\\w.-]+)@([\\w.-]+)', str)\n",
      "if match:\n",
      "    print match.group()   \n",
      "    print match.group(1)  \n",
      "    print match.group(2) "
     ],
     "language": "python",
     "metadata": {},
     "outputs": [
      {
       "output_type": "stream",
       "stream": "stdout",
       "text": [
        "alice-b@google.com\n",
        "alice-b\n",
        "google.com\n"
       ]
      }
     ],
     "prompt_number": 37
    },
    {
     "cell_type": "markdown",
     "metadata": {},
     "source": [
      "###findall"
     ]
    },
    {
     "cell_type": "markdown",
     "metadata": {},
     "source": [
      "_search_ finds the first match of a pattern. _findall()_ finds all the matches and returns them as a list of strings, with each string representing one match"
     ]
    },
    {
     "cell_type": "code",
     "collapsed": false,
     "input": [
      "## Suppose we have a text with many email addresses\n",
      "str = 'purple alice@google.com, blah monkey bob@abc.com blah dishwasher'\n",
      "\n",
      "## Here re.findall() returns a list of all the found email strings\n",
      "emails = re.findall(r'[\\w\\.-]+@[\\w\\.-]+', str)\n",
      "\n",
      "print emails\n",
      "\n",
      "for email in emails:\n",
      "    # do something with each found email string\n",
      "    print email"
     ],
     "language": "python",
     "metadata": {},
     "outputs": [
      {
       "output_type": "stream",
       "stream": "stdout",
       "text": [
        "['alice@google.com', 'bob@abc.com']\n",
        "alice@google.com\n",
        "bob@abc.com\n"
       ]
      }
     ],
     "prompt_number": 39
    },
    {
     "cell_type": "markdown",
     "metadata": {},
     "source": [
      "Using groups"
     ]
    },
    {
     "cell_type": "code",
     "collapsed": false,
     "input": [
      "str = 'purple alice@google.com, blah monkey bob@abc.com blah dishwasher'\n",
      "tuples = re.findall(r'([\\w\\.-]+)@([\\w\\.-]+)', str)\n",
      "print tuples \n",
      "\n",
      "for tuple in tuples:\n",
      "    print tuple[0]  ## username\n",
      "    print tuple[1]  ## host"
     ],
     "language": "python",
     "metadata": {},
     "outputs": [
      {
       "output_type": "stream",
       "stream": "stdout",
       "text": [
        "[('alice', 'google.com'), ('bob', 'abc.com')]\n",
        "alice\n",
        "google.com\n",
        "bob\n",
        "abc.com\n"
       ]
      }
     ],
     "prompt_number": 41
    },
    {
     "cell_type": "markdown",
     "metadata": {},
     "source": [
      "Substitution"
     ]
    },
    {
     "cell_type": "code",
     "collapsed": false,
     "input": [
      "str = 'purple alice@google.com, blah monkey bob@abc.com blah dishwasher'\n",
      "## re.sub(pat, replacement, str) -- returns new string with all replacements,\n",
      "## \\1 is group(1), \\2 group(2) in the replacement\n",
      "\n",
      "print str\n",
      "\n",
      "print re.sub(r'([\\w\\.-]+)@([\\w\\.-]+)', r'\\1@yo-yo-dyne.com', str)"
     ],
     "language": "python",
     "metadata": {},
     "outputs": [
      {
       "output_type": "stream",
       "stream": "stdout",
       "text": [
        "purple alice@google.com, blah monkey bob@abc.com blah dishwasher\n",
        "purple alice@yo-yo-dyne.com, blah monkey bob@yo-yo-dyne.com blah dishwasher\n"
       ]
      }
     ],
     "prompt_number": 43
    },
    {
     "cell_type": "code",
     "collapsed": false,
     "input": [],
     "language": "python",
     "metadata": {},
     "outputs": []
    }
   ],
   "metadata": {}
  }
 ]
}